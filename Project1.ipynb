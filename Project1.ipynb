{
 "cells": [
  {
   "cell_type": "code",
   "execution_count": 100,
   "metadata": {},
   "outputs": [],
   "source": [
    "#import necessary libraries\n",
    "import numpy as np\n",
    "import pandas as pd\n",
    "import matplotlib.pyplot as plt\n",
    "import sklearn\n",
    "import seaborn as sns"
   ]
  },
  {
   "cell_type": "markdown",
   "metadata": {},
   "source": [
    "Generally quarterly data for the last 12 months.\n",
    "Data dictionary:\n",
    "* id: Airbnb's unique identifier for the listing\n",
    "* name: name of the listing\n",
    "* host_id: Airbnb's unique identifier for the host/ user\n",
    "* host_name: name of the host. Usually just the first name(s)\n",
    "* neighbourhood_group\n",
    "* neighbourhood\n",
    "* latitude: Uses the World Geodetic System (WGS84) projection for the latitude and longtitude\n",
    "* longtitude: Uses the World Geodetic System (WGS84) projection for the latitude and longtitude\n",
    "* room_type: \"[Entire home/apt|Private room|Shared room|Hotel]\n",
    "\n",
    "All homes are grouped into the following three room types:\n",
    "\n",
    "Entire place\n",
    "Private room\n",
    "Shared room\n",
    "\n",
    "Entire place:\n",
    "Entire places are best if you're seeking a home away from home. With an entire place, you'll have the whole space to yourself. This usually includes a bedroom, a bathroom, a kitchen, and a separate, dedicated entrance. Hosts should note in the description if they'll be on the property or not (ex: \"\"Host occupies first floor of the home\"\"), and provide further details on the listing.\n",
    "\n",
    "Private rooms:\n",
    "Private rooms are great for when you prefer a little privacy, and still value a local connection. When you book a private room, you'll have your own private room for sleeping and may share some spaces with others. You might need to walk through indoor spaces that another host or guest may occupy to get to your room.\n",
    "\n",
    "Shared rooms:\n",
    "Shared rooms are for when you don't mind sharing a space with others. When you book a shared room, you'll be sleeping in a space that is shared with others and share the entire space with other people. Shared rooms are popular among flexible travelers looking for new friends and budget-friendly stays.\"\n",
    "\n",
    "* price: daily price in local currency\n",
    "* minimum_nights: minium number of night stay for the listing (calendar rules may be different)\n",
    "* number of reviews: the number of reviews the listing has\n",
    "* last_review: the date of the last/ newest review\n",
    "* reviews_per_month: the number of reviews the listing has over the lifetime of the listing\n",
    "* calculated_host_listings_count: the number of listings the host has in the current scrape, in the city/ region geography\n",
    "* availability_365: avaliability_x. The availability of the listing x days in the future as determined by the calendar. Note a listing may not be available because it has been booked by a guest or blocked by the host.\n",
    "* number_of_reviews_ltm: The number of reviews the listing has (in the last 12 months)\n"
   ]
  },
  {
   "cell_type": "markdown",
   "metadata": {},
   "source": [
    "1. Data collection and select relevant information"
   ]
  },
  {
   "cell_type": "code",
   "execution_count": 101,
   "metadata": {},
   "outputs": [
    {
     "data": {
      "text/html": [
       "<div>\n",
       "<style scoped>\n",
       "    .dataframe tbody tr th:only-of-type {\n",
       "        vertical-align: middle;\n",
       "    }\n",
       "\n",
       "    .dataframe tbody tr th {\n",
       "        vertical-align: top;\n",
       "    }\n",
       "\n",
       "    .dataframe thead th {\n",
       "        text-align: right;\n",
       "    }\n",
       "</style>\n",
       "<table border=\"1\" class=\"dataframe\">\n",
       "  <thead>\n",
       "    <tr style=\"text-align: right;\">\n",
       "      <th></th>\n",
       "      <th>id</th>\n",
       "      <th>name</th>\n",
       "      <th>host_id</th>\n",
       "      <th>host_name</th>\n",
       "      <th>neighbourhood_group</th>\n",
       "      <th>neighbourhood</th>\n",
       "      <th>latitude</th>\n",
       "      <th>longitude</th>\n",
       "      <th>room_type</th>\n",
       "      <th>price</th>\n",
       "      <th>minimum_nights</th>\n",
       "      <th>number_of_reviews</th>\n",
       "      <th>last_review</th>\n",
       "      <th>reviews_per_month</th>\n",
       "      <th>calculated_host_listings_count</th>\n",
       "      <th>availability_365</th>\n",
       "      <th>number_of_reviews_ltm</th>\n",
       "      <th>license</th>\n",
       "    </tr>\n",
       "  </thead>\n",
       "  <tbody>\n",
       "    <tr>\n",
       "      <th>0</th>\n",
       "      <td>9569407</td>\n",
       "      <td>Clean &amp; Cozy Newton/Boston College</td>\n",
       "      <td>44920239</td>\n",
       "      <td>Marcia</td>\n",
       "      <td>NaN</td>\n",
       "      <td>Brighton</td>\n",
       "      <td>42.33588</td>\n",
       "      <td>-71.18811</td>\n",
       "      <td>Private room</td>\n",
       "      <td>60</td>\n",
       "      <td>91</td>\n",
       "      <td>13</td>\n",
       "      <td>2019-09-02</td>\n",
       "      <td>0.17</td>\n",
       "      <td>2</td>\n",
       "      <td>255</td>\n",
       "      <td>0</td>\n",
       "      <td>NaN</td>\n",
       "    </tr>\n",
       "    <tr>\n",
       "      <th>1</th>\n",
       "      <td>31650137</td>\n",
       "      <td>Cozy Queen Bedroom close to  Boston</td>\n",
       "      <td>13005723</td>\n",
       "      <td>Anderson</td>\n",
       "      <td>NaN</td>\n",
       "      <td>Charlestown</td>\n",
       "      <td>42.40645</td>\n",
       "      <td>-71.05180</td>\n",
       "      <td>Private room</td>\n",
       "      <td>104</td>\n",
       "      <td>2</td>\n",
       "      <td>144</td>\n",
       "      <td>2022-06-02</td>\n",
       "      <td>3.60</td>\n",
       "      <td>3</td>\n",
       "      <td>85</td>\n",
       "      <td>57</td>\n",
       "      <td>NaN</td>\n",
       "    </tr>\n",
       "    <tr>\n",
       "      <th>2</th>\n",
       "      <td>6599485</td>\n",
       "      <td>Cambridge  Harvard Comfortable Room</td>\n",
       "      <td>6438360</td>\n",
       "      <td>John</td>\n",
       "      <td>NaN</td>\n",
       "      <td>Allston</td>\n",
       "      <td>42.38461</td>\n",
       "      <td>-71.13500</td>\n",
       "      <td>Private room</td>\n",
       "      <td>63</td>\n",
       "      <td>30</td>\n",
       "      <td>210</td>\n",
       "      <td>2022-03-19</td>\n",
       "      <td>2.50</td>\n",
       "      <td>2</td>\n",
       "      <td>154</td>\n",
       "      <td>3</td>\n",
       "      <td>NaN</td>\n",
       "    </tr>\n",
       "    <tr>\n",
       "      <th>3</th>\n",
       "      <td>26703374</td>\n",
       "      <td>Harvard Square less than 2 miles</td>\n",
       "      <td>71156317</td>\n",
       "      <td>Eddy</td>\n",
       "      <td>NaN</td>\n",
       "      <td>Brighton</td>\n",
       "      <td>42.37511</td>\n",
       "      <td>-71.15229</td>\n",
       "      <td>Private room</td>\n",
       "      <td>87</td>\n",
       "      <td>3</td>\n",
       "      <td>21</td>\n",
       "      <td>2022-06-09</td>\n",
       "      <td>0.45</td>\n",
       "      <td>1</td>\n",
       "      <td>61</td>\n",
       "      <td>16</td>\n",
       "      <td>STR-16228</td>\n",
       "    </tr>\n",
       "    <tr>\n",
       "      <th>4</th>\n",
       "      <td>13883630</td>\n",
       "      <td>Nice, Clean, Warm, Smoke Free 1 in East Somerv...</td>\n",
       "      <td>80080682</td>\n",
       "      <td>Maria And Jose</td>\n",
       "      <td>NaN</td>\n",
       "      <td>Charlestown</td>\n",
       "      <td>42.38751</td>\n",
       "      <td>-71.09151</td>\n",
       "      <td>Private room</td>\n",
       "      <td>90</td>\n",
       "      <td>2</td>\n",
       "      <td>128</td>\n",
       "      <td>2022-05-26</td>\n",
       "      <td>1.78</td>\n",
       "      <td>2</td>\n",
       "      <td>226</td>\n",
       "      <td>12</td>\n",
       "      <td>NaN</td>\n",
       "    </tr>\n",
       "  </tbody>\n",
       "</table>\n",
       "</div>"
      ],
      "text/plain": [
       "         id                                               name   host_id  \\\n",
       "0   9569407                 Clean & Cozy Newton/Boston College  44920239   \n",
       "1  31650137                Cozy Queen Bedroom close to  Boston  13005723   \n",
       "2   6599485                Cambridge  Harvard Comfortable Room   6438360   \n",
       "3  26703374                   Harvard Square less than 2 miles  71156317   \n",
       "4  13883630  Nice, Clean, Warm, Smoke Free 1 in East Somerv...  80080682   \n",
       "\n",
       "        host_name  neighbourhood_group neighbourhood  latitude  longitude  \\\n",
       "0          Marcia                  NaN      Brighton  42.33588  -71.18811   \n",
       "1        Anderson                  NaN   Charlestown  42.40645  -71.05180   \n",
       "2            John                  NaN       Allston  42.38461  -71.13500   \n",
       "3            Eddy                  NaN      Brighton  42.37511  -71.15229   \n",
       "4  Maria And Jose                  NaN   Charlestown  42.38751  -71.09151   \n",
       "\n",
       "      room_type  price  minimum_nights  number_of_reviews last_review  \\\n",
       "0  Private room     60              91                 13  2019-09-02   \n",
       "1  Private room    104               2                144  2022-06-02   \n",
       "2  Private room     63              30                210  2022-03-19   \n",
       "3  Private room     87               3                 21  2022-06-09   \n",
       "4  Private room     90               2                128  2022-05-26   \n",
       "\n",
       "   reviews_per_month  calculated_host_listings_count  availability_365  \\\n",
       "0               0.17                               2               255   \n",
       "1               3.60                               3                85   \n",
       "2               2.50                               2               154   \n",
       "3               0.45                               1                61   \n",
       "4               1.78                               2               226   \n",
       "\n",
       "   number_of_reviews_ltm    license  \n",
       "0                      0        NaN  \n",
       "1                     57        NaN  \n",
       "2                      3        NaN  \n",
       "3                     16  STR-16228  \n",
       "4                     12        NaN  "
      ]
     },
     "execution_count": 101,
     "metadata": {},
     "output_type": "execute_result"
    }
   ],
   "source": [
    "#Read data\n",
    "df = pd.read_csv(\"C:/Users/LENOVO/Desktop/0.FPT/Udacity/Boston_listing.csv\")\n",
    "df.head()"
   ]
  },
  {
   "cell_type": "code",
   "execution_count": 102,
   "metadata": {},
   "outputs": [
    {
     "name": "stdout",
     "output_type": "stream",
     "text": [
      "(4903, 18)\n"
     ]
    }
   ],
   "source": [
    "#Investigate the size of data\n",
    "print(df.shape)"
   ]
  },
  {
   "cell_type": "code",
   "execution_count": 103,
   "metadata": {},
   "outputs": [
    {
     "data": {
      "text/html": [
       "<div>\n",
       "<style scoped>\n",
       "    .dataframe tbody tr th:only-of-type {\n",
       "        vertical-align: middle;\n",
       "    }\n",
       "\n",
       "    .dataframe tbody tr th {\n",
       "        vertical-align: top;\n",
       "    }\n",
       "\n",
       "    .dataframe thead th {\n",
       "        text-align: right;\n",
       "    }\n",
       "</style>\n",
       "<table border=\"1\" class=\"dataframe\">\n",
       "  <thead>\n",
       "    <tr style=\"text-align: right;\">\n",
       "      <th></th>\n",
       "      <th>id</th>\n",
       "      <th>host_id</th>\n",
       "      <th>neighbourhood_group</th>\n",
       "      <th>latitude</th>\n",
       "      <th>longitude</th>\n",
       "      <th>price</th>\n",
       "      <th>minimum_nights</th>\n",
       "      <th>number_of_reviews</th>\n",
       "      <th>reviews_per_month</th>\n",
       "      <th>calculated_host_listings_count</th>\n",
       "      <th>availability_365</th>\n",
       "      <th>number_of_reviews_ltm</th>\n",
       "    </tr>\n",
       "  </thead>\n",
       "  <tbody>\n",
       "    <tr>\n",
       "      <th>count</th>\n",
       "      <td>4.903000e+03</td>\n",
       "      <td>4.903000e+03</td>\n",
       "      <td>0.0</td>\n",
       "      <td>4903.000000</td>\n",
       "      <td>4903.000000</td>\n",
       "      <td>4903.000000</td>\n",
       "      <td>4903.000000</td>\n",
       "      <td>4903.000000</td>\n",
       "      <td>3744.000000</td>\n",
       "      <td>4903.000000</td>\n",
       "      <td>4903.000000</td>\n",
       "      <td>4903.000000</td>\n",
       "    </tr>\n",
       "    <tr>\n",
       "      <th>mean</th>\n",
       "      <td>8.174322e+16</td>\n",
       "      <td>1.231954e+08</td>\n",
       "      <td>NaN</td>\n",
       "      <td>42.346659</td>\n",
       "      <td>-71.088937</td>\n",
       "      <td>251.839690</td>\n",
       "      <td>28.758107</td>\n",
       "      <td>46.581277</td>\n",
       "      <td>1.738486</td>\n",
       "      <td>49.121150</td>\n",
       "      <td>184.431165</td>\n",
       "      <td>12.123802</td>\n",
       "    </tr>\n",
       "    <tr>\n",
       "      <th>std</th>\n",
       "      <td>2.057741e+17</td>\n",
       "      <td>1.312964e+08</td>\n",
       "      <td>NaN</td>\n",
       "      <td>0.030256</td>\n",
       "      <td>0.037472</td>\n",
       "      <td>377.160569</td>\n",
       "      <td>39.596102</td>\n",
       "      <td>86.857651</td>\n",
       "      <td>1.978892</td>\n",
       "      <td>107.532512</td>\n",
       "      <td>126.282138</td>\n",
       "      <td>22.018231</td>\n",
       "    </tr>\n",
       "    <tr>\n",
       "      <th>min</th>\n",
       "      <td>3.168000e+03</td>\n",
       "      <td>3.697000e+03</td>\n",
       "      <td>NaN</td>\n",
       "      <td>42.231170</td>\n",
       "      <td>-71.201970</td>\n",
       "      <td>0.000000</td>\n",
       "      <td>1.000000</td>\n",
       "      <td>0.000000</td>\n",
       "      <td>0.010000</td>\n",
       "      <td>1.000000</td>\n",
       "      <td>0.000000</td>\n",
       "      <td>0.000000</td>\n",
       "    </tr>\n",
       "    <tr>\n",
       "      <th>25%</th>\n",
       "      <td>1.905511e+07</td>\n",
       "      <td>1.805388e+07</td>\n",
       "      <td>NaN</td>\n",
       "      <td>42.331064</td>\n",
       "      <td>-71.113155</td>\n",
       "      <td>100.000000</td>\n",
       "      <td>2.000000</td>\n",
       "      <td>1.000000</td>\n",
       "      <td>0.280000</td>\n",
       "      <td>2.000000</td>\n",
       "      <td>64.000000</td>\n",
       "      <td>0.000000</td>\n",
       "    </tr>\n",
       "    <tr>\n",
       "      <th>50%</th>\n",
       "      <td>3.974761e+07</td>\n",
       "      <td>7.294825e+07</td>\n",
       "      <td>NaN</td>\n",
       "      <td>42.349910</td>\n",
       "      <td>-71.083660</td>\n",
       "      <td>188.000000</td>\n",
       "      <td>10.000000</td>\n",
       "      <td>9.000000</td>\n",
       "      <td>1.000000</td>\n",
       "      <td>5.000000</td>\n",
       "      <td>189.000000</td>\n",
       "      <td>1.000000</td>\n",
       "    </tr>\n",
       "    <tr>\n",
       "      <th>75%</th>\n",
       "      <td>5.127137e+07</td>\n",
       "      <td>2.052698e+08</td>\n",
       "      <td>NaN</td>\n",
       "      <td>42.366335</td>\n",
       "      <td>-71.063315</td>\n",
       "      <td>289.000000</td>\n",
       "      <td>32.000000</td>\n",
       "      <td>53.000000</td>\n",
       "      <td>2.552500</td>\n",
       "      <td>36.000000</td>\n",
       "      <td>304.000000</td>\n",
       "      <td>15.000000</td>\n",
       "    </tr>\n",
       "    <tr>\n",
       "      <th>max</th>\n",
       "      <td>6.470705e+17</td>\n",
       "      <td>4.632796e+08</td>\n",
       "      <td>NaN</td>\n",
       "      <td>42.410821</td>\n",
       "      <td>-70.918380</td>\n",
       "      <td>10000.000000</td>\n",
       "      <td>730.000000</td>\n",
       "      <td>1071.000000</td>\n",
       "      <td>19.270000</td>\n",
       "      <td>399.000000</td>\n",
       "      <td>365.000000</td>\n",
       "      <td>263.000000</td>\n",
       "    </tr>\n",
       "  </tbody>\n",
       "</table>\n",
       "</div>"
      ],
      "text/plain": [
       "                 id       host_id  neighbourhood_group     latitude  \\\n",
       "count  4.903000e+03  4.903000e+03                  0.0  4903.000000   \n",
       "mean   8.174322e+16  1.231954e+08                  NaN    42.346659   \n",
       "std    2.057741e+17  1.312964e+08                  NaN     0.030256   \n",
       "min    3.168000e+03  3.697000e+03                  NaN    42.231170   \n",
       "25%    1.905511e+07  1.805388e+07                  NaN    42.331064   \n",
       "50%    3.974761e+07  7.294825e+07                  NaN    42.349910   \n",
       "75%    5.127137e+07  2.052698e+08                  NaN    42.366335   \n",
       "max    6.470705e+17  4.632796e+08                  NaN    42.410821   \n",
       "\n",
       "         longitude         price  minimum_nights  number_of_reviews  \\\n",
       "count  4903.000000   4903.000000     4903.000000        4903.000000   \n",
       "mean    -71.088937    251.839690       28.758107          46.581277   \n",
       "std       0.037472    377.160569       39.596102          86.857651   \n",
       "min     -71.201970      0.000000        1.000000           0.000000   \n",
       "25%     -71.113155    100.000000        2.000000           1.000000   \n",
       "50%     -71.083660    188.000000       10.000000           9.000000   \n",
       "75%     -71.063315    289.000000       32.000000          53.000000   \n",
       "max     -70.918380  10000.000000      730.000000        1071.000000   \n",
       "\n",
       "       reviews_per_month  calculated_host_listings_count  availability_365  \\\n",
       "count        3744.000000                     4903.000000       4903.000000   \n",
       "mean            1.738486                       49.121150        184.431165   \n",
       "std             1.978892                      107.532512        126.282138   \n",
       "min             0.010000                        1.000000          0.000000   \n",
       "25%             0.280000                        2.000000         64.000000   \n",
       "50%             1.000000                        5.000000        189.000000   \n",
       "75%             2.552500                       36.000000        304.000000   \n",
       "max            19.270000                      399.000000        365.000000   \n",
       "\n",
       "       number_of_reviews_ltm  \n",
       "count            4903.000000  \n",
       "mean               12.123802  \n",
       "std                22.018231  \n",
       "min                 0.000000  \n",
       "25%                 0.000000  \n",
       "50%                 1.000000  \n",
       "75%                15.000000  \n",
       "max               263.000000  "
      ]
     },
     "execution_count": 103,
     "metadata": {},
     "output_type": "execute_result"
    }
   ],
   "source": [
    "#Investigate the statistic characteristics of data\n",
    "df.describe()"
   ]
  },
  {
   "cell_type": "code",
   "execution_count": 104,
   "metadata": {},
   "outputs": [
    {
     "name": "stdout",
     "output_type": "stream",
     "text": [
      "<class 'pandas.core.frame.DataFrame'>\n",
      "RangeIndex: 4903 entries, 0 to 4902\n",
      "Data columns (total 18 columns):\n",
      " #   Column                          Non-Null Count  Dtype  \n",
      "---  ------                          --------------  -----  \n",
      " 0   id                              4903 non-null   int64  \n",
      " 1   name                            4903 non-null   object \n",
      " 2   host_id                         4903 non-null   int64  \n",
      " 3   host_name                       4903 non-null   object \n",
      " 4   neighbourhood_group             0 non-null      float64\n",
      " 5   neighbourhood                   4903 non-null   object \n",
      " 6   latitude                        4903 non-null   float64\n",
      " 7   longitude                       4903 non-null   float64\n",
      " 8   room_type                       4903 non-null   object \n",
      " 9   price                           4903 non-null   int64  \n",
      " 10  minimum_nights                  4903 non-null   int64  \n",
      " 11  number_of_reviews               4903 non-null   int64  \n",
      " 12  last_review                     3744 non-null   object \n",
      " 13  reviews_per_month               3744 non-null   float64\n",
      " 14  calculated_host_listings_count  4903 non-null   int64  \n",
      " 15  availability_365                4903 non-null   int64  \n",
      " 16  number_of_reviews_ltm           4903 non-null   int64  \n",
      " 17  license                         2246 non-null   object \n",
      "dtypes: float64(4), int64(8), object(6)\n",
      "memory usage: 689.6+ KB\n"
     ]
    }
   ],
   "source": [
    "df.info()"
   ]
  },
  {
   "cell_type": "code",
   "execution_count": 105,
   "metadata": {},
   "outputs": [
    {
     "data": {
      "text/plain": [
       "id                                   0\n",
       "name                                 0\n",
       "host_id                              0\n",
       "host_name                            0\n",
       "neighbourhood_group               4903\n",
       "neighbourhood                        0\n",
       "latitude                             0\n",
       "longitude                            0\n",
       "room_type                            0\n",
       "price                                0\n",
       "minimum_nights                       0\n",
       "number_of_reviews                    0\n",
       "last_review                       1159\n",
       "reviews_per_month                 1159\n",
       "calculated_host_listings_count       0\n",
       "availability_365                     0\n",
       "number_of_reviews_ltm                0\n",
       "license                           2657\n",
       "dtype: int64"
      ]
     },
     "execution_count": 105,
     "metadata": {},
     "output_type": "execute_result"
    }
   ],
   "source": [
    "#Check null for columns\n",
    "df.isnull().sum()"
   ]
  },
  {
   "cell_type": "markdown",
   "metadata": {},
   "source": [
    "* Columns neighbourhood_group is all NaN and does not contain any analytic value => drop\n",
    "* Columns last_review and license contain less analytic value => drop"
   ]
  },
  {
   "cell_type": "code",
   "execution_count": 106,
   "metadata": {},
   "outputs": [
    {
     "data": {
      "text/html": [
       "<div>\n",
       "<style scoped>\n",
       "    .dataframe tbody tr th:only-of-type {\n",
       "        vertical-align: middle;\n",
       "    }\n",
       "\n",
       "    .dataframe tbody tr th {\n",
       "        vertical-align: top;\n",
       "    }\n",
       "\n",
       "    .dataframe thead th {\n",
       "        text-align: right;\n",
       "    }\n",
       "</style>\n",
       "<table border=\"1\" class=\"dataframe\">\n",
       "  <thead>\n",
       "    <tr style=\"text-align: right;\">\n",
       "      <th></th>\n",
       "      <th>room_type</th>\n",
       "      <th>price</th>\n",
       "      <th>minimum_nights</th>\n",
       "      <th>number_of_reviews</th>\n",
       "      <th>reviews_per_month</th>\n",
       "      <th>calculated_host_listings_count</th>\n",
       "      <th>availability_365</th>\n",
       "      <th>number_of_reviews_ltm</th>\n",
       "    </tr>\n",
       "  </thead>\n",
       "  <tbody>\n",
       "    <tr>\n",
       "      <th>0</th>\n",
       "      <td>Private room</td>\n",
       "      <td>60</td>\n",
       "      <td>91</td>\n",
       "      <td>13</td>\n",
       "      <td>0.17</td>\n",
       "      <td>2</td>\n",
       "      <td>255</td>\n",
       "      <td>0</td>\n",
       "    </tr>\n",
       "    <tr>\n",
       "      <th>1</th>\n",
       "      <td>Private room</td>\n",
       "      <td>104</td>\n",
       "      <td>2</td>\n",
       "      <td>144</td>\n",
       "      <td>3.60</td>\n",
       "      <td>3</td>\n",
       "      <td>85</td>\n",
       "      <td>57</td>\n",
       "    </tr>\n",
       "    <tr>\n",
       "      <th>2</th>\n",
       "      <td>Private room</td>\n",
       "      <td>63</td>\n",
       "      <td>30</td>\n",
       "      <td>210</td>\n",
       "      <td>2.50</td>\n",
       "      <td>2</td>\n",
       "      <td>154</td>\n",
       "      <td>3</td>\n",
       "    </tr>\n",
       "    <tr>\n",
       "      <th>3</th>\n",
       "      <td>Private room</td>\n",
       "      <td>87</td>\n",
       "      <td>3</td>\n",
       "      <td>21</td>\n",
       "      <td>0.45</td>\n",
       "      <td>1</td>\n",
       "      <td>61</td>\n",
       "      <td>16</td>\n",
       "    </tr>\n",
       "    <tr>\n",
       "      <th>4</th>\n",
       "      <td>Private room</td>\n",
       "      <td>90</td>\n",
       "      <td>2</td>\n",
       "      <td>128</td>\n",
       "      <td>1.78</td>\n",
       "      <td>2</td>\n",
       "      <td>226</td>\n",
       "      <td>12</td>\n",
       "    </tr>\n",
       "  </tbody>\n",
       "</table>\n",
       "</div>"
      ],
      "text/plain": [
       "      room_type  price  minimum_nights  number_of_reviews  reviews_per_month  \\\n",
       "0  Private room     60              91                 13               0.17   \n",
       "1  Private room    104               2                144               3.60   \n",
       "2  Private room     63              30                210               2.50   \n",
       "3  Private room     87               3                 21               0.45   \n",
       "4  Private room     90               2                128               1.78   \n",
       "\n",
       "   calculated_host_listings_count  availability_365  number_of_reviews_ltm  \n",
       "0                               2               255                      0  \n",
       "1                               3                85                     57  \n",
       "2                               2               154                      3  \n",
       "3                               1                61                     16  \n",
       "4                               2               226                     12  "
      ]
     },
     "execution_count": 106,
     "metadata": {},
     "output_type": "execute_result"
    }
   ],
   "source": [
    "#select relevant features\n",
    "cols = ['room_type','price','minimum_nights','number_of_reviews','reviews_per_month','calculated_host_listings_count','availability_365','number_of_reviews_ltm']\n",
    "data = df[cols]\n",
    "data.head()"
   ]
  },
  {
   "cell_type": "markdown",
   "metadata": {},
   "source": [
    "2. Data understanding and data preparation"
   ]
  },
  {
   "cell_type": "markdown",
   "metadata": {},
   "source": [
    "2.1. Continuous variables"
   ]
  },
  {
   "cell_type": "markdown",
   "metadata": {},
   "source": [
    "* Price: the variable of interest"
   ]
  },
  {
   "cell_type": "code",
   "execution_count": 107,
   "metadata": {},
   "outputs": [
    {
     "data": {
      "image/png": "[encoded data removed]",
      "text/plain": [
       "<Figure size 1080x576 with 1 Axes>"
      ]
     },
     "metadata": {},
     "output_type": "display_data"
    }
   ],
   "source": [
    "#price histogram\n",
    "data['price'].hist()\n",
    "plt.title(\"Price histogram\")\n",
    "plt.savefig(\"Price histogram\")\n",
    "plt.show()"
   ]
  },
  {
   "cell_type": "markdown",
   "metadata": {},
   "source": [
    "The price has right skew distribution\n",
    "There are several outliers should be reviewed"
   ]
  },
  {
   "cell_type": "code",
   "execution_count": 108,
   "metadata": {},
   "outputs": [
    {
     "data": {
      "image/png": "[encoded data removed]",
      "text/plain": [
       "<Figure size 1080x576 with 1 Axes>"
      ]
     },
     "metadata": {},
     "output_type": "display_data"
    }
   ],
   "source": [
    "#Price <2000 histogram\n",
    "data[data['price']<2000]['price'].hist()\n",
    "plt.title('Price < 2000 histogram')\n",
    "plt.savefig('Price less than 2000 histogram.png')\n",
    "plt.show()"
   ]
  },
  {
   "cell_type": "markdown",
   "metadata": {},
   "source": [
    "* Availability_365"
   ]
  },
  {
   "cell_type": "code",
   "execution_count": 109,
   "metadata": {},
   "outputs": [
    {
     "data": {
      "image/png": "[encoded data removed]",
      "text/plain": [
       "<Figure size 1080x576 with 1 Axes>"
      ]
     },
     "metadata": {},
     "output_type": "display_data"
    }
   ],
   "source": [
    "#Availability_365 bar chart\n",
    "plt.bar(data['room_type'], data['availability_365'])\n",
    "plt.title('Availability_365')\n",
    "plt.savefig(\"Availability_365.png\")\n",
    "plt.show()"
   ]
  },
  {
   "cell_type": "code",
   "execution_count": 110,
   "metadata": {},
   "outputs": [
    {
     "data": {
      "image/png": "[encoded data removed]",
      "text/plain": [
       "<Figure size 1080x576 with 1 Axes>"
      ]
     },
     "metadata": {},
     "output_type": "display_data"
    }
   ],
   "source": [
    "#Availability_365 histogram\n",
    "data[['room_type','availability_365']].hist()\n",
    "plt.title('Availability_365')\n",
    "plt.savefig(\"Availability_365_hist.png\")\n",
    "plt.show()"
   ]
  },
  {
   "cell_type": "code",
   "execution_count": 111,
   "metadata": {},
   "outputs": [
    {
     "data": {
      "text/plain": [
       "365"
      ]
     },
     "execution_count": 111,
     "metadata": {},
     "output_type": "execute_result"
    }
   ],
   "source": [
    "data[data['room_type']=='Entire home/apt']['availability_365'].max()"
   ]
  },
  {
   "cell_type": "code",
   "execution_count": 112,
   "metadata": {},
   "outputs": [
    {
     "data": {
      "text/plain": [
       "365"
      ]
     },
     "execution_count": 112,
     "metadata": {},
     "output_type": "execute_result"
    }
   ],
   "source": [
    "data[data['room_type']=='Private room']['availability_365'].max()"
   ]
  },
  {
   "cell_type": "markdown",
   "metadata": {},
   "source": [
    "* reviews_per_month"
   ]
  },
  {
   "cell_type": "code",
   "execution_count": 113,
   "metadata": {},
   "outputs": [
    {
     "name": "stderr",
     "output_type": "stream",
     "text": [
      "C:\\Users\\LENOVO\\AppData\\Local\\Temp\\ipykernel_18872\\446634.py:2: SettingWithCopyWarning: \n",
      "A value is trying to be set on a copy of a slice from a DataFrame.\n",
      "Try using .loc[row_indexer,col_indexer] = value instead\n",
      "\n",
      "See the caveats in the documentation: https://pandas.pydata.org/pandas-docs/stable/user_guide/indexing.html#returning-a-view-versus-a-copy\n",
      "  data['reviews_per_month'] = data['reviews_per_month'].fillna(0)\n"
     ]
    },
    {
     "data": {
      "text/plain": [
       "0"
      ]
     },
     "execution_count": 113,
     "metadata": {},
     "output_type": "execute_result"
    }
   ],
   "source": [
    "#Replace NA in column reviews_per_month by 0\n",
    "data['reviews_per_month'] = data['reviews_per_month'].fillna(0)\n",
    "data['reviews_per_month'].isna().sum()"
   ]
  },
  {
   "cell_type": "code",
   "execution_count": 114,
   "metadata": {},
   "outputs": [
    {
     "data": {
      "image/png": "[encoded data removed]",
      "text/plain": [
       "<Figure size 1080x576 with 1 Axes>"
      ]
     },
     "metadata": {},
     "output_type": "display_data"
    }
   ],
   "source": [
    "#Reviews_per_month histogram\n",
    "data['reviews_per_month'].hist()\n",
    "plt.title(\"Reviews_per_month\")\n",
    "plt.savefig(\"Reviews_per_month.png\")\n",
    "plt.show()"
   ]
  },
  {
   "cell_type": "markdown",
   "metadata": {},
   "source": [
    "* Calculated_host_listings_count"
   ]
  },
  {
   "cell_type": "code",
   "execution_count": 115,
   "metadata": {},
   "outputs": [
    {
     "data": {
      "image/png": "[encoded data removed]",
      "text/plain": [
       "<Figure size 1080x576 with 1 Axes>"
      ]
     },
     "metadata": {},
     "output_type": "display_data"
    }
   ],
   "source": [
    "#calculated_host_listings_count histogram\n",
    "data['calculated_host_listings_count'].hist()\n",
    "plt.title(\"Calculated_host_listings_count\")\n",
    "plt.savefig(\"Calculated_host_listings_count\")\n",
    "plt.show()"
   ]
  },
  {
   "cell_type": "code",
   "execution_count": 116,
   "metadata": {},
   "outputs": [
    {
     "data": {
      "text/plain": [
       "399"
      ]
     },
     "execution_count": 116,
     "metadata": {},
     "output_type": "execute_result"
    }
   ],
   "source": [
    "data['calculated_host_listings_count'].max()"
   ]
  },
  {
   "cell_type": "code",
   "execution_count": 117,
   "metadata": {},
   "outputs": [
    {
     "data": {
      "text/plain": [
       "1"
      ]
     },
     "execution_count": 117,
     "metadata": {},
     "output_type": "execute_result"
    }
   ],
   "source": [
    "data['calculated_host_listings_count'].min()"
   ]
  },
  {
   "cell_type": "code",
   "execution_count": 118,
   "metadata": {},
   "outputs": [
    {
     "data": {
      "text/plain": [
       "49.12115031613298"
      ]
     },
     "execution_count": 118,
     "metadata": {},
     "output_type": "execute_result"
    }
   ],
   "source": [
    "data['calculated_host_listings_count'].mean()"
   ]
  },
  {
   "cell_type": "markdown",
   "metadata": {},
   "source": [
    "2.2. Categorical variables"
   ]
  },
  {
   "cell_type": "markdown",
   "metadata": {},
   "source": [
    "* room_type"
   ]
  },
  {
   "cell_type": "code",
   "execution_count": 119,
   "metadata": {},
   "outputs": [
    {
     "data": {
      "text/plain": [
       "0"
      ]
     },
     "execution_count": 119,
     "metadata": {},
     "output_type": "execute_result"
    }
   ],
   "source": [
    "#Check missing valuable for room_type\n",
    "data['room_type'].isnull().sum()"
   ]
  },
  {
   "cell_type": "code",
   "execution_count": 120,
   "metadata": {},
   "outputs": [
    {
     "data": {
      "image/png": "[encoded data removed]",
      "text/plain": [
       "<Figure size 1080x576 with 1 Axes>"
      ]
     },
     "metadata": {},
     "output_type": "display_data"
    }
   ],
   "source": [
    "#Room_type histogram \n",
    "data['room_type'].hist()\n",
    "plt.title(\"Room_type\")\n",
    "plt.savefig(\"Room_type.png\")\n",
    "plt.show()"
   ]
  },
  {
   "cell_type": "markdown",
   "metadata": {},
   "source": [
    "From category to dummy variable"
   ]
  },
  {
   "cell_type": "code",
   "execution_count": 121,
   "metadata": {},
   "outputs": [
    {
     "data": {
      "text/html": [
       "<div>\n",
       "<style scoped>\n",
       "    .dataframe tbody tr th:only-of-type {\n",
       "        vertical-align: middle;\n",
       "    }\n",
       "\n",
       "    .dataframe tbody tr th {\n",
       "        vertical-align: top;\n",
       "    }\n",
       "\n",
       "    .dataframe thead th {\n",
       "        text-align: right;\n",
       "    }\n",
       "</style>\n",
       "<table border=\"1\" class=\"dataframe\">\n",
       "  <thead>\n",
       "    <tr style=\"text-align: right;\">\n",
       "      <th></th>\n",
       "      <th>Entire home/apt</th>\n",
       "      <th>Hotel room</th>\n",
       "      <th>Private room</th>\n",
       "      <th>Shared room</th>\n",
       "    </tr>\n",
       "  </thead>\n",
       "  <tbody>\n",
       "    <tr>\n",
       "      <th>0</th>\n",
       "      <td>0</td>\n",
       "      <td>0</td>\n",
       "      <td>1</td>\n",
       "      <td>0</td>\n",
       "    </tr>\n",
       "    <tr>\n",
       "      <th>1</th>\n",
       "      <td>0</td>\n",
       "      <td>0</td>\n",
       "      <td>1</td>\n",
       "      <td>0</td>\n",
       "    </tr>\n",
       "    <tr>\n",
       "      <th>2</th>\n",
       "      <td>0</td>\n",
       "      <td>0</td>\n",
       "      <td>1</td>\n",
       "      <td>0</td>\n",
       "    </tr>\n",
       "    <tr>\n",
       "      <th>3</th>\n",
       "      <td>0</td>\n",
       "      <td>0</td>\n",
       "      <td>1</td>\n",
       "      <td>0</td>\n",
       "    </tr>\n",
       "    <tr>\n",
       "      <th>4</th>\n",
       "      <td>0</td>\n",
       "      <td>0</td>\n",
       "      <td>1</td>\n",
       "      <td>0</td>\n",
       "    </tr>\n",
       "  </tbody>\n",
       "</table>\n",
       "</div>"
      ],
      "text/plain": [
       "   Entire home/apt  Hotel room  Private room  Shared room\n",
       "0                0           0             1            0\n",
       "1                0           0             1            0\n",
       "2                0           0             1            0\n",
       "3                0           0             1            0\n",
       "4                0           0             1            0"
      ]
     },
     "execution_count": 121,
     "metadata": {},
     "output_type": "execute_result"
    }
   ],
   "source": [
    "# Convert category variables into dummy variables\n",
    "dummies = pd.get_dummies(data['room_type'])\n",
    "dummies.head()"
   ]
  },
  {
   "cell_type": "code",
   "execution_count": 122,
   "metadata": {},
   "outputs": [
    {
     "data": {
      "text/html": [
       "<div>\n",
       "<style scoped>\n",
       "    .dataframe tbody tr th:only-of-type {\n",
       "        vertical-align: middle;\n",
       "    }\n",
       "\n",
       "    .dataframe tbody tr th {\n",
       "        vertical-align: top;\n",
       "    }\n",
       "\n",
       "    .dataframe thead th {\n",
       "        text-align: right;\n",
       "    }\n",
       "</style>\n",
       "<table border=\"1\" class=\"dataframe\">\n",
       "  <thead>\n",
       "    <tr style=\"text-align: right;\">\n",
       "      <th></th>\n",
       "      <th>room_type</th>\n",
       "      <th>price</th>\n",
       "      <th>minimum_nights</th>\n",
       "      <th>number_of_reviews</th>\n",
       "      <th>reviews_per_month</th>\n",
       "      <th>calculated_host_listings_count</th>\n",
       "      <th>availability_365</th>\n",
       "      <th>number_of_reviews_ltm</th>\n",
       "      <th>Entire home/apt</th>\n",
       "      <th>Hotel room</th>\n",
       "      <th>Private room</th>\n",
       "      <th>Shared room</th>\n",
       "    </tr>\n",
       "  </thead>\n",
       "  <tbody>\n",
       "    <tr>\n",
       "      <th>0</th>\n",
       "      <td>Private room</td>\n",
       "      <td>60</td>\n",
       "      <td>91</td>\n",
       "      <td>13</td>\n",
       "      <td>0.17</td>\n",
       "      <td>2</td>\n",
       "      <td>255</td>\n",
       "      <td>0</td>\n",
       "      <td>0</td>\n",
       "      <td>0</td>\n",
       "      <td>1</td>\n",
       "      <td>0</td>\n",
       "    </tr>\n",
       "    <tr>\n",
       "      <th>1</th>\n",
       "      <td>Private room</td>\n",
       "      <td>104</td>\n",
       "      <td>2</td>\n",
       "      <td>144</td>\n",
       "      <td>3.60</td>\n",
       "      <td>3</td>\n",
       "      <td>85</td>\n",
       "      <td>57</td>\n",
       "      <td>0</td>\n",
       "      <td>0</td>\n",
       "      <td>1</td>\n",
       "      <td>0</td>\n",
       "    </tr>\n",
       "    <tr>\n",
       "      <th>2</th>\n",
       "      <td>Private room</td>\n",
       "      <td>63</td>\n",
       "      <td>30</td>\n",
       "      <td>210</td>\n",
       "      <td>2.50</td>\n",
       "      <td>2</td>\n",
       "      <td>154</td>\n",
       "      <td>3</td>\n",
       "      <td>0</td>\n",
       "      <td>0</td>\n",
       "      <td>1</td>\n",
       "      <td>0</td>\n",
       "    </tr>\n",
       "    <tr>\n",
       "      <th>3</th>\n",
       "      <td>Private room</td>\n",
       "      <td>87</td>\n",
       "      <td>3</td>\n",
       "      <td>21</td>\n",
       "      <td>0.45</td>\n",
       "      <td>1</td>\n",
       "      <td>61</td>\n",
       "      <td>16</td>\n",
       "      <td>0</td>\n",
       "      <td>0</td>\n",
       "      <td>1</td>\n",
       "      <td>0</td>\n",
       "    </tr>\n",
       "    <tr>\n",
       "      <th>4</th>\n",
       "      <td>Private room</td>\n",
       "      <td>90</td>\n",
       "      <td>2</td>\n",
       "      <td>128</td>\n",
       "      <td>1.78</td>\n",
       "      <td>2</td>\n",
       "      <td>226</td>\n",
       "      <td>12</td>\n",
       "      <td>0</td>\n",
       "      <td>0</td>\n",
       "      <td>1</td>\n",
       "      <td>0</td>\n",
       "    </tr>\n",
       "  </tbody>\n",
       "</table>\n",
       "</div>"
      ],
      "text/plain": [
       "      room_type  price  minimum_nights  number_of_reviews  reviews_per_month  \\\n",
       "0  Private room     60              91                 13               0.17   \n",
       "1  Private room    104               2                144               3.60   \n",
       "2  Private room     63              30                210               2.50   \n",
       "3  Private room     87               3                 21               0.45   \n",
       "4  Private room     90               2                128               1.78   \n",
       "\n",
       "   calculated_host_listings_count  availability_365  number_of_reviews_ltm  \\\n",
       "0                               2               255                      0   \n",
       "1                               3                85                     57   \n",
       "2                               2               154                      3   \n",
       "3                               1                61                     16   \n",
       "4                               2               226                     12   \n",
       "\n",
       "   Entire home/apt  Hotel room  Private room  Shared room  \n",
       "0                0           0             1            0  \n",
       "1                0           0             1            0  \n",
       "2                0           0             1            0  \n",
       "3                0           0             1            0  \n",
       "4                0           0             1            0  "
      ]
     },
     "execution_count": 122,
     "metadata": {},
     "output_type": "execute_result"
    }
   ],
   "source": [
    "data = pd.concat([data, dummies], axis = 1)\n",
    "data.head()"
   ]
  },
  {
   "cell_type": "code",
   "execution_count": 123,
   "metadata": {},
   "outputs": [
    {
     "data": {
      "text/html": [
       "<div>\n",
       "<style scoped>\n",
       "    .dataframe tbody tr th:only-of-type {\n",
       "        vertical-align: middle;\n",
       "    }\n",
       "\n",
       "    .dataframe tbody tr th {\n",
       "        vertical-align: top;\n",
       "    }\n",
       "\n",
       "    .dataframe thead th {\n",
       "        text-align: right;\n",
       "    }\n",
       "</style>\n",
       "<table border=\"1\" class=\"dataframe\">\n",
       "  <thead>\n",
       "    <tr style=\"text-align: right;\">\n",
       "      <th></th>\n",
       "      <th>price</th>\n",
       "      <th>minimum_nights</th>\n",
       "      <th>number_of_reviews</th>\n",
       "      <th>reviews_per_month</th>\n",
       "      <th>calculated_host_listings_count</th>\n",
       "      <th>availability_365</th>\n",
       "      <th>number_of_reviews_ltm</th>\n",
       "      <th>Entire home/apt</th>\n",
       "      <th>Hotel room</th>\n",
       "      <th>Private room</th>\n",
       "      <th>Shared room</th>\n",
       "    </tr>\n",
       "  </thead>\n",
       "  <tbody>\n",
       "    <tr>\n",
       "      <th>count</th>\n",
       "      <td>4903.000000</td>\n",
       "      <td>4903.000000</td>\n",
       "      <td>4903.000000</td>\n",
       "      <td>4903.000000</td>\n",
       "      <td>4903.000000</td>\n",
       "      <td>4903.000000</td>\n",
       "      <td>4903.000000</td>\n",
       "      <td>4903.000000</td>\n",
       "      <td>4903.000000</td>\n",
       "      <td>4903.000000</td>\n",
       "      <td>4903.000000</td>\n",
       "    </tr>\n",
       "    <tr>\n",
       "      <th>mean</th>\n",
       "      <td>251.839690</td>\n",
       "      <td>28.758107</td>\n",
       "      <td>46.581277</td>\n",
       "      <td>1.327532</td>\n",
       "      <td>49.121150</td>\n",
       "      <td>184.431165</td>\n",
       "      <td>12.123802</td>\n",
       "      <td>0.658780</td>\n",
       "      <td>0.004895</td>\n",
       "      <td>0.330818</td>\n",
       "      <td>0.005507</td>\n",
       "    </tr>\n",
       "    <tr>\n",
       "      <th>std</th>\n",
       "      <td>377.160569</td>\n",
       "      <td>39.596102</td>\n",
       "      <td>86.857651</td>\n",
       "      <td>1.880372</td>\n",
       "      <td>107.532512</td>\n",
       "      <td>126.282138</td>\n",
       "      <td>22.018231</td>\n",
       "      <td>0.474167</td>\n",
       "      <td>0.069800</td>\n",
       "      <td>0.470556</td>\n",
       "      <td>0.074011</td>\n",
       "    </tr>\n",
       "    <tr>\n",
       "      <th>min</th>\n",
       "      <td>0.000000</td>\n",
       "      <td>1.000000</td>\n",
       "      <td>0.000000</td>\n",
       "      <td>0.000000</td>\n",
       "      <td>1.000000</td>\n",
       "      <td>0.000000</td>\n",
       "      <td>0.000000</td>\n",
       "      <td>0.000000</td>\n",
       "      <td>0.000000</td>\n",
       "      <td>0.000000</td>\n",
       "      <td>0.000000</td>\n",
       "    </tr>\n",
       "    <tr>\n",
       "      <th>25%</th>\n",
       "      <td>100.000000</td>\n",
       "      <td>2.000000</td>\n",
       "      <td>1.000000</td>\n",
       "      <td>0.030000</td>\n",
       "      <td>2.000000</td>\n",
       "      <td>64.000000</td>\n",
       "      <td>0.000000</td>\n",
       "      <td>0.000000</td>\n",
       "      <td>0.000000</td>\n",
       "      <td>0.000000</td>\n",
       "      <td>0.000000</td>\n",
       "    </tr>\n",
       "    <tr>\n",
       "      <th>50%</th>\n",
       "      <td>188.000000</td>\n",
       "      <td>10.000000</td>\n",
       "      <td>9.000000</td>\n",
       "      <td>0.510000</td>\n",
       "      <td>5.000000</td>\n",
       "      <td>189.000000</td>\n",
       "      <td>1.000000</td>\n",
       "      <td>1.000000</td>\n",
       "      <td>0.000000</td>\n",
       "      <td>0.000000</td>\n",
       "      <td>0.000000</td>\n",
       "    </tr>\n",
       "    <tr>\n",
       "      <th>75%</th>\n",
       "      <td>289.000000</td>\n",
       "      <td>32.000000</td>\n",
       "      <td>53.000000</td>\n",
       "      <td>2.000000</td>\n",
       "      <td>36.000000</td>\n",
       "      <td>304.000000</td>\n",
       "      <td>15.000000</td>\n",
       "      <td>1.000000</td>\n",
       "      <td>0.000000</td>\n",
       "      <td>1.000000</td>\n",
       "      <td>0.000000</td>\n",
       "    </tr>\n",
       "    <tr>\n",
       "      <th>max</th>\n",
       "      <td>10000.000000</td>\n",
       "      <td>730.000000</td>\n",
       "      <td>1071.000000</td>\n",
       "      <td>19.270000</td>\n",
       "      <td>399.000000</td>\n",
       "      <td>365.000000</td>\n",
       "      <td>263.000000</td>\n",
       "      <td>1.000000</td>\n",
       "      <td>1.000000</td>\n",
       "      <td>1.000000</td>\n",
       "      <td>1.000000</td>\n",
       "    </tr>\n",
       "  </tbody>\n",
       "</table>\n",
       "</div>"
      ],
      "text/plain": [
       "              price  minimum_nights  number_of_reviews  reviews_per_month  \\\n",
       "count   4903.000000     4903.000000        4903.000000        4903.000000   \n",
       "mean     251.839690       28.758107          46.581277           1.327532   \n",
       "std      377.160569       39.596102          86.857651           1.880372   \n",
       "min        0.000000        1.000000           0.000000           0.000000   \n",
       "25%      100.000000        2.000000           1.000000           0.030000   \n",
       "50%      188.000000       10.000000           9.000000           0.510000   \n",
       "75%      289.000000       32.000000          53.000000           2.000000   \n",
       "max    10000.000000      730.000000        1071.000000          19.270000   \n",
       "\n",
       "       calculated_host_listings_count  availability_365  \\\n",
       "count                     4903.000000       4903.000000   \n",
       "mean                        49.121150        184.431165   \n",
       "std                        107.532512        126.282138   \n",
       "min                          1.000000          0.000000   \n",
       "25%                          2.000000         64.000000   \n",
       "50%                          5.000000        189.000000   \n",
       "75%                         36.000000        304.000000   \n",
       "max                        399.000000        365.000000   \n",
       "\n",
       "       number_of_reviews_ltm  Entire home/apt   Hotel room  Private room  \\\n",
       "count            4903.000000      4903.000000  4903.000000   4903.000000   \n",
       "mean               12.123802         0.658780     0.004895      0.330818   \n",
       "std                22.018231         0.474167     0.069800      0.470556   \n",
       "min                 0.000000         0.000000     0.000000      0.000000   \n",
       "25%                 0.000000         0.000000     0.000000      0.000000   \n",
       "50%                 1.000000         1.000000     0.000000      0.000000   \n",
       "75%                15.000000         1.000000     0.000000      1.000000   \n",
       "max               263.000000         1.000000     1.000000      1.000000   \n",
       "\n",
       "       Shared room  \n",
       "count  4903.000000  \n",
       "mean      0.005507  \n",
       "std       0.074011  \n",
       "min       0.000000  \n",
       "25%       0.000000  \n",
       "50%       0.000000  \n",
       "75%       0.000000  \n",
       "max       1.000000  "
      ]
     },
     "execution_count": 123,
     "metadata": {},
     "output_type": "execute_result"
    }
   ],
   "source": [
    "data.describe()"
   ]
  },
  {
   "cell_type": "code",
   "execution_count": 124,
   "metadata": {},
   "outputs": [
    {
     "data": {
      "text/plain": [
       "(4903, 12)"
      ]
     },
     "execution_count": 124,
     "metadata": {},
     "output_type": "execute_result"
    }
   ],
   "source": [
    "data.shape"
   ]
  },
  {
   "cell_type": "markdown",
   "metadata": {},
   "source": [
    "2.3. Detect and remove outliers with Isolation Forest"
   ]
  },
  {
   "cell_type": "code",
   "execution_count": 156,
   "metadata": {},
   "outputs": [],
   "source": [
    "#import library\n",
    "from sklearn.ensemble import IsolationForest\n",
    "from matplotlib import pyplot"
   ]
  },
  {
   "cell_type": "code",
   "execution_count": 126,
   "metadata": {},
   "outputs": [
    {
     "data": {
      "text/plain": [
       "Index(['room_type', 'price', 'minimum_nights', 'number_of_reviews',\n",
       "       'reviews_per_month', 'calculated_host_listings_count',\n",
       "       'availability_365', 'number_of_reviews_ltm', 'Entire home/apt',\n",
       "       'Hotel room', 'Private room', 'Shared room'],\n",
       "      dtype='object')"
      ]
     },
     "execution_count": 126,
     "metadata": {},
     "output_type": "execute_result"
    }
   ],
   "source": [
    "#List columns of dataset\n",
    "data.columns"
   ]
  },
  {
   "cell_type": "code",
   "execution_count": 127,
   "metadata": {},
   "outputs": [
    {
     "data": {
      "text/plain": [
       "(4903, 11)"
      ]
     },
     "execution_count": 127,
     "metadata": {},
     "output_type": "execute_result"
    }
   ],
   "source": [
    "# create X matrix\n",
    "Xcols = [ 'price','minimum_nights', 'number_of_reviews',\n",
    "       'reviews_per_month', 'calculated_host_listings_count',\n",
    "       'availability_365', 'number_of_reviews_ltm', 'Entire home/apt',\n",
    "       'Hotel room', 'Private room', 'Shared room']\n",
    "X = data[Xcols]\n",
    "X.shape"
   ]
  },
  {
   "cell_type": "code",
   "execution_count": 128,
   "metadata": {},
   "outputs": [
    {
     "data": {
      "text/html": [
       "<div>\n",
       "<style scoped>\n",
       "    .dataframe tbody tr th:only-of-type {\n",
       "        vertical-align: middle;\n",
       "    }\n",
       "\n",
       "    .dataframe tbody tr th {\n",
       "        vertical-align: top;\n",
       "    }\n",
       "\n",
       "    .dataframe thead th {\n",
       "        text-align: right;\n",
       "    }\n",
       "</style>\n",
       "<table border=\"1\" class=\"dataframe\">\n",
       "  <thead>\n",
       "    <tr style=\"text-align: right;\">\n",
       "      <th></th>\n",
       "      <th>price</th>\n",
       "      <th>minimum_nights</th>\n",
       "      <th>number_of_reviews</th>\n",
       "      <th>reviews_per_month</th>\n",
       "      <th>calculated_host_listings_count</th>\n",
       "      <th>availability_365</th>\n",
       "      <th>number_of_reviews_ltm</th>\n",
       "      <th>Entire home/apt</th>\n",
       "      <th>Hotel room</th>\n",
       "      <th>Private room</th>\n",
       "      <th>Shared room</th>\n",
       "    </tr>\n",
       "  </thead>\n",
       "  <tbody>\n",
       "    <tr>\n",
       "      <th>0</th>\n",
       "      <td>60</td>\n",
       "      <td>91</td>\n",
       "      <td>13</td>\n",
       "      <td>0.17</td>\n",
       "      <td>2</td>\n",
       "      <td>255</td>\n",
       "      <td>0</td>\n",
       "      <td>0</td>\n",
       "      <td>0</td>\n",
       "      <td>1</td>\n",
       "      <td>0</td>\n",
       "    </tr>\n",
       "    <tr>\n",
       "      <th>1</th>\n",
       "      <td>104</td>\n",
       "      <td>2</td>\n",
       "      <td>144</td>\n",
       "      <td>3.60</td>\n",
       "      <td>3</td>\n",
       "      <td>85</td>\n",
       "      <td>57</td>\n",
       "      <td>0</td>\n",
       "      <td>0</td>\n",
       "      <td>1</td>\n",
       "      <td>0</td>\n",
       "    </tr>\n",
       "    <tr>\n",
       "      <th>2</th>\n",
       "      <td>63</td>\n",
       "      <td>30</td>\n",
       "      <td>210</td>\n",
       "      <td>2.50</td>\n",
       "      <td>2</td>\n",
       "      <td>154</td>\n",
       "      <td>3</td>\n",
       "      <td>0</td>\n",
       "      <td>0</td>\n",
       "      <td>1</td>\n",
       "      <td>0</td>\n",
       "    </tr>\n",
       "    <tr>\n",
       "      <th>3</th>\n",
       "      <td>87</td>\n",
       "      <td>3</td>\n",
       "      <td>21</td>\n",
       "      <td>0.45</td>\n",
       "      <td>1</td>\n",
       "      <td>61</td>\n",
       "      <td>16</td>\n",
       "      <td>0</td>\n",
       "      <td>0</td>\n",
       "      <td>1</td>\n",
       "      <td>0</td>\n",
       "    </tr>\n",
       "    <tr>\n",
       "      <th>4</th>\n",
       "      <td>90</td>\n",
       "      <td>2</td>\n",
       "      <td>128</td>\n",
       "      <td>1.78</td>\n",
       "      <td>2</td>\n",
       "      <td>226</td>\n",
       "      <td>12</td>\n",
       "      <td>0</td>\n",
       "      <td>0</td>\n",
       "      <td>1</td>\n",
       "      <td>0</td>\n",
       "    </tr>\n",
       "  </tbody>\n",
       "</table>\n",
       "</div>"
      ],
      "text/plain": [
       "   price  minimum_nights  number_of_reviews  reviews_per_month  \\\n",
       "0     60              91                 13               0.17   \n",
       "1    104               2                144               3.60   \n",
       "2     63              30                210               2.50   \n",
       "3     87               3                 21               0.45   \n",
       "4     90               2                128               1.78   \n",
       "\n",
       "   calculated_host_listings_count  availability_365  number_of_reviews_ltm  \\\n",
       "0                               2               255                      0   \n",
       "1                               3                85                     57   \n",
       "2                               2               154                      3   \n",
       "3                               1                61                     16   \n",
       "4                               2               226                     12   \n",
       "\n",
       "   Entire home/apt  Hotel room  Private room  Shared room  \n",
       "0                0           0             1            0  \n",
       "1                0           0             1            0  \n",
       "2                0           0             1            0  \n",
       "3                0           0             1            0  \n",
       "4                0           0             1            0  "
      ]
     },
     "execution_count": 128,
     "metadata": {},
     "output_type": "execute_result"
    }
   ],
   "source": [
    "X.head()"
   ]
  },
  {
   "cell_type": "code",
   "execution_count": 129,
   "metadata": {},
   "outputs": [
    {
     "data": {
      "text/plain": [
       "(4903,)"
      ]
     },
     "execution_count": 129,
     "metadata": {},
     "output_type": "execute_result"
    }
   ],
   "source": [
    "Y = data['price']\n",
    "Y.shape"
   ]
  },
  {
   "cell_type": "code",
   "execution_count": 130,
   "metadata": {},
   "outputs": [
    {
     "data": {
      "text/plain": [
       "0     60\n",
       "1    104\n",
       "2     63\n",
       "3     87\n",
       "4     90\n",
       "Name: price, dtype: int64"
      ]
     },
     "execution_count": 130,
     "metadata": {},
     "output_type": "execute_result"
    }
   ],
   "source": [
    "Y.head()"
   ]
  },
  {
   "cell_type": "code",
   "execution_count": 131,
   "metadata": {},
   "outputs": [
    {
     "name": "stderr",
     "output_type": "stream",
     "text": [
      "c:\\Users\\LENOVO\\AppData\\Local\\Programs\\Python\\Python310\\lib\\site-packages\\sklearn\\base.py:450: UserWarning: X does not have valid feature names, but IsolationForest was fitted with feature names\n",
      "  warnings.warn(\n"
     ]
    }
   ],
   "source": [
    "# define model\n",
    "iforest = IsolationForest(n_jobs = -1, contamination=0.05, random_state=333)\n",
    "# fit and predict\n",
    "pred= iforest.fit_predict(X)"
   ]
  },
  {
   "cell_type": "code",
   "execution_count": 132,
   "metadata": {},
   "outputs": [],
   "source": [
    "# add the scores and the labels to the original data to detect outliers\n",
    "data['scores'] = iforest.decision_function(X)\n",
    "data['anomaly_label'] = pred"
   ]
  },
  {
   "cell_type": "code",
   "execution_count": 133,
   "metadata": {},
   "outputs": [
    {
     "data": {
      "text/html": [
       "<div>\n",
       "<style scoped>\n",
       "    .dataframe tbody tr th:only-of-type {\n",
       "        vertical-align: middle;\n",
       "    }\n",
       "\n",
       "    .dataframe tbody tr th {\n",
       "        vertical-align: top;\n",
       "    }\n",
       "\n",
       "    .dataframe thead th {\n",
       "        text-align: right;\n",
       "    }\n",
       "</style>\n",
       "<table border=\"1\" class=\"dataframe\">\n",
       "  <thead>\n",
       "    <tr style=\"text-align: right;\">\n",
       "      <th></th>\n",
       "      <th>%</th>\n",
       "    </tr>\n",
       "    <tr>\n",
       "      <th>anomaly_label</th>\n",
       "      <th></th>\n",
       "    </tr>\n",
       "  </thead>\n",
       "  <tbody>\n",
       "    <tr>\n",
       "      <th>-1</th>\n",
       "      <td>5.02</td>\n",
       "    </tr>\n",
       "    <tr>\n",
       "      <th>1</th>\n",
       "      <td>94.98</td>\n",
       "    </tr>\n",
       "  </tbody>\n",
       "</table>\n",
       "</div>"
      ],
      "text/plain": [
       "                   %\n",
       "anomaly_label       \n",
       "-1              5.02\n",
       " 1             94.98"
      ]
     },
     "execution_count": 133,
     "metadata": {},
     "output_type": "execute_result"
    }
   ],
   "source": [
    "# 5% of outliers detected\n",
    "gb = pd.DataFrame((data.groupby(by='anomaly_label').count()['price']/data.shape[0]))*100\n",
    "gb.columns = ['%']\n",
    "round(gb,2)"
   ]
  },
  {
   "cell_type": "code",
   "execution_count": 134,
   "metadata": {},
   "outputs": [
    {
     "data": {
      "text/plain": [
       "(246, 14)"
      ]
     },
     "execution_count": 134,
     "metadata": {},
     "output_type": "execute_result"
    }
   ],
   "source": [
    "# take a look into outliers\n",
    "outliers = data[data.anomaly_label==-1]\n",
    "outliers.shape"
   ]
  },
  {
   "cell_type": "code",
   "execution_count": 135,
   "metadata": {},
   "outputs": [
    {
     "data": {
      "text/html": [
       "<div>\n",
       "<style scoped>\n",
       "    .dataframe tbody tr th:only-of-type {\n",
       "        vertical-align: middle;\n",
       "    }\n",
       "\n",
       "    .dataframe tbody tr th {\n",
       "        vertical-align: top;\n",
       "    }\n",
       "\n",
       "    .dataframe thead th {\n",
       "        text-align: right;\n",
       "    }\n",
       "</style>\n",
       "<table border=\"1\" class=\"dataframe\">\n",
       "  <thead>\n",
       "    <tr style=\"text-align: right;\">\n",
       "      <th></th>\n",
       "      <th>room_type</th>\n",
       "      <th>price</th>\n",
       "      <th>minimum_nights</th>\n",
       "      <th>number_of_reviews</th>\n",
       "      <th>reviews_per_month</th>\n",
       "      <th>calculated_host_listings_count</th>\n",
       "      <th>availability_365</th>\n",
       "      <th>number_of_reviews_ltm</th>\n",
       "      <th>Entire home/apt</th>\n",
       "      <th>Hotel room</th>\n",
       "      <th>Private room</th>\n",
       "      <th>Shared room</th>\n",
       "      <th>scores</th>\n",
       "      <th>anomaly_label</th>\n",
       "    </tr>\n",
       "  </thead>\n",
       "  <tbody>\n",
       "    <tr>\n",
       "      <th>10</th>\n",
       "      <td>Entire home/apt</td>\n",
       "      <td>120</td>\n",
       "      <td>1</td>\n",
       "      <td>531</td>\n",
       "      <td>13.63</td>\n",
       "      <td>1</td>\n",
       "      <td>77</td>\n",
       "      <td>152</td>\n",
       "      <td>1</td>\n",
       "      <td>0</td>\n",
       "      <td>0</td>\n",
       "      <td>0</td>\n",
       "      <td>-0.121296</td>\n",
       "      <td>-1</td>\n",
       "    </tr>\n",
       "    <tr>\n",
       "      <th>20</th>\n",
       "      <td>Private room</td>\n",
       "      <td>173</td>\n",
       "      <td>1</td>\n",
       "      <td>174</td>\n",
       "      <td>5.27</td>\n",
       "      <td>5</td>\n",
       "      <td>346</td>\n",
       "      <td>116</td>\n",
       "      <td>0</td>\n",
       "      <td>0</td>\n",
       "      <td>1</td>\n",
       "      <td>0</td>\n",
       "      <td>-0.079382</td>\n",
       "      <td>-1</td>\n",
       "    </tr>\n",
       "    <tr>\n",
       "      <th>24</th>\n",
       "      <td>Private room</td>\n",
       "      <td>50</td>\n",
       "      <td>1</td>\n",
       "      <td>190</td>\n",
       "      <td>2.59</td>\n",
       "      <td>1</td>\n",
       "      <td>291</td>\n",
       "      <td>93</td>\n",
       "      <td>0</td>\n",
       "      <td>0</td>\n",
       "      <td>1</td>\n",
       "      <td>0</td>\n",
       "      <td>-0.024091</td>\n",
       "      <td>-1</td>\n",
       "    </tr>\n",
       "    <tr>\n",
       "      <th>25</th>\n",
       "      <td>Private room</td>\n",
       "      <td>131</td>\n",
       "      <td>1</td>\n",
       "      <td>1071</td>\n",
       "      <td>9.03</td>\n",
       "      <td>5</td>\n",
       "      <td>313</td>\n",
       "      <td>102</td>\n",
       "      <td>0</td>\n",
       "      <td>0</td>\n",
       "      <td>1</td>\n",
       "      <td>0</td>\n",
       "      <td>-0.137516</td>\n",
       "      <td>-1</td>\n",
       "    </tr>\n",
       "    <tr>\n",
       "      <th>26</th>\n",
       "      <td>Private room</td>\n",
       "      <td>41</td>\n",
       "      <td>1</td>\n",
       "      <td>310</td>\n",
       "      <td>4.17</td>\n",
       "      <td>5</td>\n",
       "      <td>224</td>\n",
       "      <td>38</td>\n",
       "      <td>0</td>\n",
       "      <td>0</td>\n",
       "      <td>1</td>\n",
       "      <td>0</td>\n",
       "      <td>-0.007376</td>\n",
       "      <td>-1</td>\n",
       "    </tr>\n",
       "  </tbody>\n",
       "</table>\n",
       "</div>"
      ],
      "text/plain": [
       "          room_type  price  minimum_nights  number_of_reviews  \\\n",
       "10  Entire home/apt    120               1                531   \n",
       "20     Private room    173               1                174   \n",
       "24     Private room     50               1                190   \n",
       "25     Private room    131               1               1071   \n",
       "26     Private room     41               1                310   \n",
       "\n",
       "    reviews_per_month  calculated_host_listings_count  availability_365  \\\n",
       "10              13.63                               1                77   \n",
       "20               5.27                               5               346   \n",
       "24               2.59                               1               291   \n",
       "25               9.03                               5               313   \n",
       "26               4.17                               5               224   \n",
       "\n",
       "    number_of_reviews_ltm  Entire home/apt  Hotel room  Private room  \\\n",
       "10                    152                1           0             0   \n",
       "20                    116                0           0             1   \n",
       "24                     93                0           0             1   \n",
       "25                    102                0           0             1   \n",
       "26                     38                0           0             1   \n",
       "\n",
       "    Shared room    scores  anomaly_label  \n",
       "10            0 -0.121296             -1  \n",
       "20            0 -0.079382             -1  \n",
       "24            0 -0.024091             -1  \n",
       "25            0 -0.137516             -1  \n",
       "26            0 -0.007376             -1  "
      ]
     },
     "execution_count": 135,
     "metadata": {},
     "output_type": "execute_result"
    }
   ],
   "source": [
    "outliers.head()"
   ]
  },
  {
   "cell_type": "code",
   "execution_count": 136,
   "metadata": {},
   "outputs": [
    {
     "data": {
      "text/html": [
       "<div>\n",
       "<style scoped>\n",
       "    .dataframe tbody tr th:only-of-type {\n",
       "        vertical-align: middle;\n",
       "    }\n",
       "\n",
       "    .dataframe tbody tr th {\n",
       "        vertical-align: top;\n",
       "    }\n",
       "\n",
       "    .dataframe thead th {\n",
       "        text-align: right;\n",
       "    }\n",
       "</style>\n",
       "<table border=\"1\" class=\"dataframe\">\n",
       "  <thead>\n",
       "    <tr style=\"text-align: right;\">\n",
       "      <th></th>\n",
       "      <th>price</th>\n",
       "      <th>minimum_nights</th>\n",
       "      <th>number_of_reviews</th>\n",
       "      <th>reviews_per_month</th>\n",
       "      <th>calculated_host_listings_count</th>\n",
       "      <th>availability_365</th>\n",
       "      <th>number_of_reviews_ltm</th>\n",
       "      <th>Entire home/apt</th>\n",
       "      <th>Hotel room</th>\n",
       "      <th>Private room</th>\n",
       "      <th>Shared room</th>\n",
       "      <th>scores</th>\n",
       "      <th>anomaly_label</th>\n",
       "    </tr>\n",
       "  </thead>\n",
       "  <tbody>\n",
       "    <tr>\n",
       "      <th>count</th>\n",
       "      <td>246.000000</td>\n",
       "      <td>246.000000</td>\n",
       "      <td>246.000000</td>\n",
       "      <td>246.000000</td>\n",
       "      <td>246.000000</td>\n",
       "      <td>246.000000</td>\n",
       "      <td>246.000000</td>\n",
       "      <td>246.000000</td>\n",
       "      <td>246.000000</td>\n",
       "      <td>246.000000</td>\n",
       "      <td>246.000000</td>\n",
       "      <td>246.000000</td>\n",
       "      <td>246.0</td>\n",
       "    </tr>\n",
       "    <tr>\n",
       "      <th>mean</th>\n",
       "      <td>468.105691</td>\n",
       "      <td>17.898374</td>\n",
       "      <td>232.313008</td>\n",
       "      <td>5.059146</td>\n",
       "      <td>22.589431</td>\n",
       "      <td>161.191057</td>\n",
       "      <td>56.914634</td>\n",
       "      <td>0.349593</td>\n",
       "      <td>0.060976</td>\n",
       "      <td>0.479675</td>\n",
       "      <td>0.109756</td>\n",
       "      <td>-0.043171</td>\n",
       "      <td>-1.0</td>\n",
       "    </tr>\n",
       "    <tr>\n",
       "      <th>std</th>\n",
       "      <td>1190.985747</td>\n",
       "      <td>56.416471</td>\n",
       "      <td>211.509761</td>\n",
       "      <td>3.464733</td>\n",
       "      <td>68.067060</td>\n",
       "      <td>115.624798</td>\n",
       "      <td>48.600462</td>\n",
       "      <td>0.477814</td>\n",
       "      <td>0.239773</td>\n",
       "      <td>0.500605</td>\n",
       "      <td>0.313223</td>\n",
       "      <td>0.040640</td>\n",
       "      <td>0.0</td>\n",
       "    </tr>\n",
       "    <tr>\n",
       "      <th>min</th>\n",
       "      <td>0.000000</td>\n",
       "      <td>1.000000</td>\n",
       "      <td>0.000000</td>\n",
       "      <td>0.000000</td>\n",
       "      <td>1.000000</td>\n",
       "      <td>0.000000</td>\n",
       "      <td>0.000000</td>\n",
       "      <td>0.000000</td>\n",
       "      <td>0.000000</td>\n",
       "      <td>0.000000</td>\n",
       "      <td>0.000000</td>\n",
       "      <td>-0.193068</td>\n",
       "      <td>-1.0</td>\n",
       "    </tr>\n",
       "    <tr>\n",
       "      <th>25%</th>\n",
       "      <td>88.000000</td>\n",
       "      <td>1.000000</td>\n",
       "      <td>73.000000</td>\n",
       "      <td>2.907500</td>\n",
       "      <td>1.250000</td>\n",
       "      <td>57.250000</td>\n",
       "      <td>2.000000</td>\n",
       "      <td>0.000000</td>\n",
       "      <td>0.000000</td>\n",
       "      <td>0.000000</td>\n",
       "      <td>0.000000</td>\n",
       "      <td>-0.064228</td>\n",
       "      <td>-1.0</td>\n",
       "    </tr>\n",
       "    <tr>\n",
       "      <th>50%</th>\n",
       "      <td>134.500000</td>\n",
       "      <td>1.000000</td>\n",
       "      <td>182.500000</td>\n",
       "      <td>5.265000</td>\n",
       "      <td>4.000000</td>\n",
       "      <td>153.500000</td>\n",
       "      <td>66.000000</td>\n",
       "      <td>0.000000</td>\n",
       "      <td>0.000000</td>\n",
       "      <td>0.000000</td>\n",
       "      <td>0.000000</td>\n",
       "      <td>-0.027981</td>\n",
       "      <td>-1.0</td>\n",
       "    </tr>\n",
       "    <tr>\n",
       "      <th>75%</th>\n",
       "      <td>300.500000</td>\n",
       "      <td>4.500000</td>\n",
       "      <td>355.750000</td>\n",
       "      <td>6.885000</td>\n",
       "      <td>13.000000</td>\n",
       "      <td>272.000000</td>\n",
       "      <td>88.000000</td>\n",
       "      <td>1.000000</td>\n",
       "      <td>0.000000</td>\n",
       "      <td>1.000000</td>\n",
       "      <td>0.000000</td>\n",
       "      <td>-0.012380</td>\n",
       "      <td>-1.0</td>\n",
       "    </tr>\n",
       "    <tr>\n",
       "      <th>max</th>\n",
       "      <td>10000.000000</td>\n",
       "      <td>730.000000</td>\n",
       "      <td>1071.000000</td>\n",
       "      <td>19.270000</td>\n",
       "      <td>399.000000</td>\n",
       "      <td>365.000000</td>\n",
       "      <td>263.000000</td>\n",
       "      <td>1.000000</td>\n",
       "      <td>1.000000</td>\n",
       "      <td>1.000000</td>\n",
       "      <td>1.000000</td>\n",
       "      <td>-0.000010</td>\n",
       "      <td>-1.0</td>\n",
       "    </tr>\n",
       "  </tbody>\n",
       "</table>\n",
       "</div>"
      ],
      "text/plain": [
       "              price  minimum_nights  number_of_reviews  reviews_per_month  \\\n",
       "count    246.000000      246.000000         246.000000         246.000000   \n",
       "mean     468.105691       17.898374         232.313008           5.059146   \n",
       "std     1190.985747       56.416471         211.509761           3.464733   \n",
       "min        0.000000        1.000000           0.000000           0.000000   \n",
       "25%       88.000000        1.000000          73.000000           2.907500   \n",
       "50%      134.500000        1.000000         182.500000           5.265000   \n",
       "75%      300.500000        4.500000         355.750000           6.885000   \n",
       "max    10000.000000      730.000000        1071.000000          19.270000   \n",
       "\n",
       "       calculated_host_listings_count  availability_365  \\\n",
       "count                      246.000000        246.000000   \n",
       "mean                        22.589431        161.191057   \n",
       "std                         68.067060        115.624798   \n",
       "min                          1.000000          0.000000   \n",
       "25%                          1.250000         57.250000   \n",
       "50%                          4.000000        153.500000   \n",
       "75%                         13.000000        272.000000   \n",
       "max                        399.000000        365.000000   \n",
       "\n",
       "       number_of_reviews_ltm  Entire home/apt  Hotel room  Private room  \\\n",
       "count             246.000000       246.000000  246.000000    246.000000   \n",
       "mean               56.914634         0.349593    0.060976      0.479675   \n",
       "std                48.600462         0.477814    0.239773      0.500605   \n",
       "min                 0.000000         0.000000    0.000000      0.000000   \n",
       "25%                 2.000000         0.000000    0.000000      0.000000   \n",
       "50%                66.000000         0.000000    0.000000      0.000000   \n",
       "75%                88.000000         1.000000    0.000000      1.000000   \n",
       "max               263.000000         1.000000    1.000000      1.000000   \n",
       "\n",
       "       Shared room      scores  anomaly_label  \n",
       "count   246.000000  246.000000          246.0  \n",
       "mean      0.109756   -0.043171           -1.0  \n",
       "std       0.313223    0.040640            0.0  \n",
       "min       0.000000   -0.193068           -1.0  \n",
       "25%       0.000000   -0.064228           -1.0  \n",
       "50%       0.000000   -0.027981           -1.0  \n",
       "75%       0.000000   -0.012380           -1.0  \n",
       "max       1.000000   -0.000010           -1.0  "
      ]
     },
     "execution_count": 136,
     "metadata": {},
     "output_type": "execute_result"
    }
   ],
   "source": [
    "outliers.describe()"
   ]
  },
  {
   "cell_type": "code",
   "execution_count": 137,
   "metadata": {},
   "outputs": [],
   "source": [
    "#Remove outliers from dataset\n",
    "data = data[data.anomaly_label==1]"
   ]
  },
  {
   "cell_type": "code",
   "execution_count": 138,
   "metadata": {},
   "outputs": [
    {
     "data": {
      "text/plain": [
       "(4657, 14)"
      ]
     },
     "execution_count": 138,
     "metadata": {},
     "output_type": "execute_result"
    }
   ],
   "source": [
    "data.shape"
   ]
  },
  {
   "cell_type": "code",
   "execution_count": 139,
   "metadata": {},
   "outputs": [
    {
     "data": {
      "text/html": [
       "<div>\n",
       "<style scoped>\n",
       "    .dataframe tbody tr th:only-of-type {\n",
       "        vertical-align: middle;\n",
       "    }\n",
       "\n",
       "    .dataframe tbody tr th {\n",
       "        vertical-align: top;\n",
       "    }\n",
       "\n",
       "    .dataframe thead th {\n",
       "        text-align: right;\n",
       "    }\n",
       "</style>\n",
       "<table border=\"1\" class=\"dataframe\">\n",
       "  <thead>\n",
       "    <tr style=\"text-align: right;\">\n",
       "      <th></th>\n",
       "      <th>room_type</th>\n",
       "      <th>price</th>\n",
       "      <th>minimum_nights</th>\n",
       "      <th>number_of_reviews</th>\n",
       "      <th>reviews_per_month</th>\n",
       "      <th>calculated_host_listings_count</th>\n",
       "      <th>availability_365</th>\n",
       "      <th>number_of_reviews_ltm</th>\n",
       "      <th>Entire home/apt</th>\n",
       "      <th>Hotel room</th>\n",
       "      <th>Private room</th>\n",
       "      <th>Shared room</th>\n",
       "      <th>scores</th>\n",
       "      <th>anomaly_label</th>\n",
       "    </tr>\n",
       "  </thead>\n",
       "  <tbody>\n",
       "    <tr>\n",
       "      <th>0</th>\n",
       "      <td>Private room</td>\n",
       "      <td>60</td>\n",
       "      <td>91</td>\n",
       "      <td>13</td>\n",
       "      <td>0.17</td>\n",
       "      <td>2</td>\n",
       "      <td>255</td>\n",
       "      <td>0</td>\n",
       "      <td>0</td>\n",
       "      <td>0</td>\n",
       "      <td>1</td>\n",
       "      <td>0</td>\n",
       "      <td>0.098648</td>\n",
       "      <td>1</td>\n",
       "    </tr>\n",
       "    <tr>\n",
       "      <th>1</th>\n",
       "      <td>Private room</td>\n",
       "      <td>104</td>\n",
       "      <td>2</td>\n",
       "      <td>144</td>\n",
       "      <td>3.60</td>\n",
       "      <td>3</td>\n",
       "      <td>85</td>\n",
       "      <td>57</td>\n",
       "      <td>0</td>\n",
       "      <td>0</td>\n",
       "      <td>1</td>\n",
       "      <td>0</td>\n",
       "      <td>0.032815</td>\n",
       "      <td>1</td>\n",
       "    </tr>\n",
       "    <tr>\n",
       "      <th>2</th>\n",
       "      <td>Private room</td>\n",
       "      <td>63</td>\n",
       "      <td>30</td>\n",
       "      <td>210</td>\n",
       "      <td>2.50</td>\n",
       "      <td>2</td>\n",
       "      <td>154</td>\n",
       "      <td>3</td>\n",
       "      <td>0</td>\n",
       "      <td>0</td>\n",
       "      <td>1</td>\n",
       "      <td>0</td>\n",
       "      <td>0.028351</td>\n",
       "      <td>1</td>\n",
       "    </tr>\n",
       "    <tr>\n",
       "      <th>3</th>\n",
       "      <td>Private room</td>\n",
       "      <td>87</td>\n",
       "      <td>3</td>\n",
       "      <td>21</td>\n",
       "      <td>0.45</td>\n",
       "      <td>1</td>\n",
       "      <td>61</td>\n",
       "      <td>16</td>\n",
       "      <td>0</td>\n",
       "      <td>0</td>\n",
       "      <td>1</td>\n",
       "      <td>0</td>\n",
       "      <td>0.105723</td>\n",
       "      <td>1</td>\n",
       "    </tr>\n",
       "    <tr>\n",
       "      <th>4</th>\n",
       "      <td>Private room</td>\n",
       "      <td>90</td>\n",
       "      <td>2</td>\n",
       "      <td>128</td>\n",
       "      <td>1.78</td>\n",
       "      <td>2</td>\n",
       "      <td>226</td>\n",
       "      <td>12</td>\n",
       "      <td>0</td>\n",
       "      <td>0</td>\n",
       "      <td>1</td>\n",
       "      <td>0</td>\n",
       "      <td>0.088809</td>\n",
       "      <td>1</td>\n",
       "    </tr>\n",
       "  </tbody>\n",
       "</table>\n",
       "</div>"
      ],
      "text/plain": [
       "      room_type  price  minimum_nights  number_of_reviews  reviews_per_month  \\\n",
       "0  Private room     60              91                 13               0.17   \n",
       "1  Private room    104               2                144               3.60   \n",
       "2  Private room     63              30                210               2.50   \n",
       "3  Private room     87               3                 21               0.45   \n",
       "4  Private room     90               2                128               1.78   \n",
       "\n",
       "   calculated_host_listings_count  availability_365  number_of_reviews_ltm  \\\n",
       "0                               2               255                      0   \n",
       "1                               3                85                     57   \n",
       "2                               2               154                      3   \n",
       "3                               1                61                     16   \n",
       "4                               2               226                     12   \n",
       "\n",
       "   Entire home/apt  Hotel room  Private room  Shared room    scores  \\\n",
       "0                0           0             1            0  0.098648   \n",
       "1                0           0             1            0  0.032815   \n",
       "2                0           0             1            0  0.028351   \n",
       "3                0           0             1            0  0.105723   \n",
       "4                0           0             1            0  0.088809   \n",
       "\n",
       "   anomaly_label  \n",
       "0              1  \n",
       "1              1  \n",
       "2              1  \n",
       "3              1  \n",
       "4              1  "
      ]
     },
     "execution_count": 139,
     "metadata": {},
     "output_type": "execute_result"
    }
   ],
   "source": [
    "data.head()"
   ]
  },
  {
   "cell_type": "code",
   "execution_count": 140,
   "metadata": {},
   "outputs": [
    {
     "data": {
      "text/html": [
       "<div>\n",
       "<style scoped>\n",
       "    .dataframe tbody tr th:only-of-type {\n",
       "        vertical-align: middle;\n",
       "    }\n",
       "\n",
       "    .dataframe tbody tr th {\n",
       "        vertical-align: top;\n",
       "    }\n",
       "\n",
       "    .dataframe thead th {\n",
       "        text-align: right;\n",
       "    }\n",
       "</style>\n",
       "<table border=\"1\" class=\"dataframe\">\n",
       "  <thead>\n",
       "    <tr style=\"text-align: right;\">\n",
       "      <th></th>\n",
       "      <th>price</th>\n",
       "      <th>minimum_nights</th>\n",
       "      <th>number_of_reviews</th>\n",
       "      <th>reviews_per_month</th>\n",
       "      <th>calculated_host_listings_count</th>\n",
       "      <th>availability_365</th>\n",
       "      <th>number_of_reviews_ltm</th>\n",
       "      <th>Entire home/apt</th>\n",
       "      <th>Hotel room</th>\n",
       "      <th>Private room</th>\n",
       "      <th>Shared room</th>\n",
       "      <th>scores</th>\n",
       "      <th>anomaly_label</th>\n",
       "    </tr>\n",
       "  </thead>\n",
       "  <tbody>\n",
       "    <tr>\n",
       "      <th>count</th>\n",
       "      <td>4657.000000</td>\n",
       "      <td>4657.000000</td>\n",
       "      <td>4657.000000</td>\n",
       "      <td>4657.000000</td>\n",
       "      <td>4657.000000</td>\n",
       "      <td>4657.000000</td>\n",
       "      <td>4657.000000</td>\n",
       "      <td>4657.000000</td>\n",
       "      <td>4657.000000</td>\n",
       "      <td>4657.000000</td>\n",
       "      <td>4657.0</td>\n",
       "      <td>4657.000000</td>\n",
       "      <td>4657.0</td>\n",
       "    </tr>\n",
       "    <tr>\n",
       "      <th>mean</th>\n",
       "      <td>240.415718</td>\n",
       "      <td>29.331759</td>\n",
       "      <td>36.770238</td>\n",
       "      <td>1.130414</td>\n",
       "      <td>50.522654</td>\n",
       "      <td>185.658793</td>\n",
       "      <td>9.757784</td>\n",
       "      <td>0.675113</td>\n",
       "      <td>0.001933</td>\n",
       "      <td>0.322955</td>\n",
       "      <td>0.0</td>\n",
       "      <td>0.097116</td>\n",
       "      <td>1.0</td>\n",
       "    </tr>\n",
       "    <tr>\n",
       "      <th>std</th>\n",
       "      <td>269.304901</td>\n",
       "      <td>38.427176</td>\n",
       "      <td>60.579883</td>\n",
       "      <td>1.521957</td>\n",
       "      <td>109.046927</td>\n",
       "      <td>126.713138</td>\n",
       "      <td>16.568941</td>\n",
       "      <td>0.468383</td>\n",
       "      <td>0.043923</td>\n",
       "      <td>0.467656</td>\n",
       "      <td>0.0</td>\n",
       "      <td>0.037246</td>\n",
       "      <td>0.0</td>\n",
       "    </tr>\n",
       "    <tr>\n",
       "      <th>min</th>\n",
       "      <td>0.000000</td>\n",
       "      <td>1.000000</td>\n",
       "      <td>0.000000</td>\n",
       "      <td>0.000000</td>\n",
       "      <td>1.000000</td>\n",
       "      <td>0.000000</td>\n",
       "      <td>0.000000</td>\n",
       "      <td>0.000000</td>\n",
       "      <td>0.000000</td>\n",
       "      <td>0.000000</td>\n",
       "      <td>0.0</td>\n",
       "      <td>0.000094</td>\n",
       "      <td>1.0</td>\n",
       "    </tr>\n",
       "    <tr>\n",
       "      <th>25%</th>\n",
       "      <td>100.000000</td>\n",
       "      <td>2.000000</td>\n",
       "      <td>1.000000</td>\n",
       "      <td>0.020000</td>\n",
       "      <td>2.000000</td>\n",
       "      <td>65.000000</td>\n",
       "      <td>0.000000</td>\n",
       "      <td>0.000000</td>\n",
       "      <td>0.000000</td>\n",
       "      <td>0.000000</td>\n",
       "      <td>0.0</td>\n",
       "      <td>0.074848</td>\n",
       "      <td>1.0</td>\n",
       "    </tr>\n",
       "    <tr>\n",
       "      <th>50%</th>\n",
       "      <td>190.000000</td>\n",
       "      <td>15.000000</td>\n",
       "      <td>8.000000</td>\n",
       "      <td>0.450000</td>\n",
       "      <td>6.000000</td>\n",
       "      <td>191.000000</td>\n",
       "      <td>1.000000</td>\n",
       "      <td>1.000000</td>\n",
       "      <td>0.000000</td>\n",
       "      <td>0.000000</td>\n",
       "      <td>0.0</td>\n",
       "      <td>0.100614</td>\n",
       "      <td>1.0</td>\n",
       "    </tr>\n",
       "    <tr>\n",
       "      <th>75%</th>\n",
       "      <td>288.000000</td>\n",
       "      <td>32.000000</td>\n",
       "      <td>45.000000</td>\n",
       "      <td>1.770000</td>\n",
       "      <td>36.000000</td>\n",
       "      <td>306.000000</td>\n",
       "      <td>13.000000</td>\n",
       "      <td>1.000000</td>\n",
       "      <td>0.000000</td>\n",
       "      <td>1.000000</td>\n",
       "      <td>0.0</td>\n",
       "      <td>0.124664</td>\n",
       "      <td>1.0</td>\n",
       "    </tr>\n",
       "    <tr>\n",
       "      <th>max</th>\n",
       "      <td>5000.000000</td>\n",
       "      <td>600.000000</td>\n",
       "      <td>465.000000</td>\n",
       "      <td>16.910000</td>\n",
       "      <td>399.000000</td>\n",
       "      <td>365.000000</td>\n",
       "      <td>97.000000</td>\n",
       "      <td>1.000000</td>\n",
       "      <td>1.000000</td>\n",
       "      <td>1.000000</td>\n",
       "      <td>0.0</td>\n",
       "      <td>0.163787</td>\n",
       "      <td>1.0</td>\n",
       "    </tr>\n",
       "  </tbody>\n",
       "</table>\n",
       "</div>"
      ],
      "text/plain": [
       "             price  minimum_nights  number_of_reviews  reviews_per_month  \\\n",
       "count  4657.000000     4657.000000        4657.000000        4657.000000   \n",
       "mean    240.415718       29.331759          36.770238           1.130414   \n",
       "std     269.304901       38.427176          60.579883           1.521957   \n",
       "min       0.000000        1.000000           0.000000           0.000000   \n",
       "25%     100.000000        2.000000           1.000000           0.020000   \n",
       "50%     190.000000       15.000000           8.000000           0.450000   \n",
       "75%     288.000000       32.000000          45.000000           1.770000   \n",
       "max    5000.000000      600.000000         465.000000          16.910000   \n",
       "\n",
       "       calculated_host_listings_count  availability_365  \\\n",
       "count                     4657.000000       4657.000000   \n",
       "mean                        50.522654        185.658793   \n",
       "std                        109.046927        126.713138   \n",
       "min                          1.000000          0.000000   \n",
       "25%                          2.000000         65.000000   \n",
       "50%                          6.000000        191.000000   \n",
       "75%                         36.000000        306.000000   \n",
       "max                        399.000000        365.000000   \n",
       "\n",
       "       number_of_reviews_ltm  Entire home/apt   Hotel room  Private room  \\\n",
       "count            4657.000000      4657.000000  4657.000000   4657.000000   \n",
       "mean                9.757784         0.675113     0.001933      0.322955   \n",
       "std                16.568941         0.468383     0.043923      0.467656   \n",
       "min                 0.000000         0.000000     0.000000      0.000000   \n",
       "25%                 0.000000         0.000000     0.000000      0.000000   \n",
       "50%                 1.000000         1.000000     0.000000      0.000000   \n",
       "75%                13.000000         1.000000     0.000000      1.000000   \n",
       "max                97.000000         1.000000     1.000000      1.000000   \n",
       "\n",
       "       Shared room       scores  anomaly_label  \n",
       "count       4657.0  4657.000000         4657.0  \n",
       "mean           0.0     0.097116            1.0  \n",
       "std            0.0     0.037246            0.0  \n",
       "min            0.0     0.000094            1.0  \n",
       "25%            0.0     0.074848            1.0  \n",
       "50%            0.0     0.100614            1.0  \n",
       "75%            0.0     0.124664            1.0  \n",
       "max            0.0     0.163787            1.0  "
      ]
     },
     "execution_count": 140,
     "metadata": {},
     "output_type": "execute_result"
    }
   ],
   "source": [
    "data.describe()"
   ]
  },
  {
   "cell_type": "code",
   "execution_count": 141,
   "metadata": {},
   "outputs": [],
   "source": [
    "# save this dataset to answer the first question lately\n",
    "data.to_csv('C:/Users/LENOVO/Desktop/0.FPT/Udacity/Boston_data_clean.csv', index=False)"
   ]
  },
  {
   "cell_type": "markdown",
   "metadata": {},
   "source": [
    "3. Analyze and Visualization"
   ]
  },
  {
   "cell_type": "markdown",
   "metadata": {},
   "source": [
    "3.1. Is there any relationship between room_type and price? "
   ]
  },
  {
   "cell_type": "code",
   "execution_count": 142,
   "metadata": {},
   "outputs": [
    {
     "data": {
      "text/plain": [
       "Entire home/apt    3144\n",
       "Private room       1504\n",
       "Hotel room            9\n",
       "Name: room_type, dtype: int64"
      ]
     },
     "execution_count": 142,
     "metadata": {},
     "output_type": "execute_result"
    }
   ],
   "source": [
    "#List all unique value of room_type\n",
    "data['room_type'].value_counts()"
   ]
  },
  {
   "cell_type": "code",
   "execution_count": 166,
   "metadata": {},
   "outputs": [],
   "source": [
    "#pyplot.scatter(data[data['room_type']=='Private room']['room_type'], data[data['room_type']=='Private room']['price'])\n",
    "#data[data['room_type']=='Private room']['room_type']"
   ]
  },
  {
   "cell_type": "code",
   "execution_count": 143,
   "metadata": {},
   "outputs": [
    {
     "data": {
      "image/png": "[encoded data removed]",
      "text/plain": [
       "<Figure size 1080x576 with 1 Axes>"
      ]
     },
     "metadata": {},
     "output_type": "display_data"
    }
   ],
   "source": [
    "#Plot relationship between Entire home/ apt and Price\n",
    "plt.plot( data[data['room_type'] =='Entire home/apt']['price'])\n",
    "plt.title(\"Room_type Entire home/apt and Price\")\n",
    "plt.xlabel(\"Entire home/apt\")\n",
    "plt.ylabel(\"Price\")\n",
    "plt.savefig('Room_type Entire home apt and Price')\n",
    "plt.show()"
   ]
  },
  {
   "cell_type": "code",
   "execution_count": 144,
   "metadata": {},
   "outputs": [
    {
     "data": {
      "image/png": "[encoded data removed]",
      "text/plain": [
       "<Figure size 1080x576 with 1 Axes>"
      ]
     },
     "metadata": {},
     "output_type": "display_data"
    }
   ],
   "source": [
    "#Plot relationship between Entire home/ apt and Price\n",
    "plt.plot( data[data['room_type'] =='Private room']['price'])\n",
    "plt.title(\"Room_type Private room and Price\")\n",
    "plt.xlabel(\"Private room\")\n",
    "plt.ylabel(\"Price\")\n",
    "plt.savefig('Room_type Private room and Price')\n",
    "plt.show()"
   ]
  },
  {
   "cell_type": "code",
   "execution_count": 145,
   "metadata": {},
   "outputs": [
    {
     "data": {
      "image/png": "[encoded data removed]",
      "text/plain": [
       "<Figure size 1080x576 with 1 Axes>"
      ]
     },
     "metadata": {},
     "output_type": "display_data"
    }
   ],
   "source": [
    "#Plot relationship between Entire home/ apt and Price\n",
    "plt.plot( data[data['room_type'] =='Hotel room']['price'])\n",
    "plt.title(\"Room_type Hotel room and Price\")\n",
    "plt.xlabel(\"Hotel room\")\n",
    "plt.ylabel(\"Price\")\n",
    "plt.savefig('Room_type Hotel room and Price')\n",
    "plt.show()"
   ]
  },
  {
   "cell_type": "code",
   "execution_count": 169,
   "metadata": {},
   "outputs": [
    {
     "data": {
      "text/plain": [
       "876     349\n",
       "877     349\n",
       "973     458\n",
       "974     478\n",
       "975     508\n",
       "976     458\n",
       "977     478\n",
       "1337      0\n",
       "1626      0\n",
       "Name: price, dtype: int64"
      ]
     },
     "execution_count": 169,
     "metadata": {},
     "output_type": "execute_result"
    }
   ],
   "source": [
    "data[data['room_type']=='Hotel room']['price']"
   ]
  },
  {
   "cell_type": "markdown",
   "metadata": {},
   "source": [
    "3.2. Which is the most expensive room_type?"
   ]
  },
  {
   "cell_type": "code",
   "execution_count": 146,
   "metadata": {},
   "outputs": [],
   "source": [
    "price_room_type = data[['price','room_type']]"
   ]
  },
  {
   "cell_type": "code",
   "execution_count": 147,
   "metadata": {},
   "outputs": [
    {
     "data": {
      "image/png": "[encoded data removed]",
      "text/plain": [
       "<Figure size 1080x576 with 1 Axes>"
      ]
     },
     "metadata": {},
     "output_type": "display_data"
    }
   ],
   "source": [
    "# boxplot price per room_type sorted by the median\n",
    "grouped = price_room_type \\\n",
    "    .groupby(['room_type']) \\\n",
    "    .median() \\\n",
    "    .sort_values(by='price')\n",
    "\n",
    "sns.set(rc={'figure.figsize':(15,8)})\n",
    "bp = sns.boxplot(x=price_room_type['room_type'], y=price_room_type['price'], order=grouped.index)\n",
    "bp.set_xticklabels(bp.get_xticklabels(), rotation=90, horizontalalignment='right')\n",
    "\n",
    "plt.ylim(0,1000)\n",
    "plt.title('price per room_type sorted by the median', fontsize=15)\n",
    "plt.tight_layout()\n",
    "plt.savefig('boxplot_price_room_type.png')"
   ]
  },
  {
   "cell_type": "code",
   "execution_count": 148,
   "metadata": {},
   "outputs": [
    {
     "data": {
      "text/plain": [
       "5000"
      ]
     },
     "execution_count": 148,
     "metadata": {},
     "output_type": "execute_result"
    }
   ],
   "source": [
    "price_room_type[price_room_type['room_type']=='Entire home/apt']['price'].max()"
   ]
  },
  {
   "cell_type": "code",
   "execution_count": 149,
   "metadata": {},
   "outputs": [
    {
     "data": {
      "text/plain": [
       "301.7245547073791"
      ]
     },
     "execution_count": 149,
     "metadata": {},
     "output_type": "execute_result"
    }
   ],
   "source": [
    "price_room_type[price_room_type['room_type']=='Entire home/apt']['price'].mean()"
   ]
  },
  {
   "cell_type": "code",
   "execution_count": 150,
   "metadata": {},
   "outputs": [
    {
     "data": {
      "text/plain": [
       "232.0"
      ]
     },
     "execution_count": 150,
     "metadata": {},
     "output_type": "execute_result"
    }
   ],
   "source": [
    "price_room_type[price_room_type['room_type']=='Entire home/apt']['price'].median()"
   ]
  },
  {
   "cell_type": "markdown",
   "metadata": {},
   "source": [
    "3.3. What are the factors impact price of Boston Airbnb?"
   ]
  },
  {
   "cell_type": "code",
   "execution_count": 151,
   "metadata": {},
   "outputs": [],
   "source": [
    "import matplotlib.pyplot as plt\n",
    "from matplotlib.colors import ListedColormap\n",
    "import seaborn as sns\n",
    "\n",
    "from sklearn.model_selection import train_test_split\n",
    "from sklearn.ensemble import RandomForestRegressor\n",
    "from sklearn.metrics import mean_squared_error"
   ]
  },
  {
   "cell_type": "code",
   "execution_count": 152,
   "metadata": {},
   "outputs": [
    {
     "name": "stdout",
     "output_type": "stream",
     "text": [
      "RMSE test set: 111.221\n",
      "RMSE train set: 79.484\n"
     ]
    },
    {
     "data": {
      "image/png": "[encoded data removed]",
      "text/plain": [
       "<Figure size 1080x576 with 1 Axes>"
      ]
     },
     "metadata": {},
     "output_type": "display_data"
    }
   ],
   "source": [
    "# prepare y and X\n",
    "y = data['price']\n",
    "X = data.drop(['price','room_type'], axis=1)\n",
    "\n",
    "# split into train and test\n",
    "X_train, X_test, y_train, y_test = train_test_split(X, y, test_size=0.33, random_state=333)\n",
    "\n",
    "# create the model, fit and predict\n",
    "rf = RandomForestRegressor(n_estimators = 500, max_depth = 10, random_state=333)\n",
    "rf.fit(X_train, y_train)\n",
    "y_pred = rf.predict(X_test)\n",
    "\n",
    "# evaluate test set\n",
    "mse_test = mean_squared_error(y_test, y_pred)\n",
    "rmse_test = np.sqrt(mse_test)\n",
    "print('RMSE test set:', round(rmse_test,3))\n",
    "\n",
    "# check the error on the train set\n",
    "y_pred_train = rf.predict(X_train)\n",
    "mse_train = mean_squared_error(y_train, y_pred_train)\n",
    "rmse_train = np.sqrt(mse_train)\n",
    "print('RMSE train set:', round(rmse_train,3))\n",
    "\n",
    "# prepare data for plot\n",
    "d = {'y_test': y_test.values, 'y_pred': y_pred}\n",
    "df = pd.DataFrame(d)\n",
    "df = df.sort_values('y_test')\n",
    "df = df.reset_index(drop=True)\n",
    "\n",
    "# plot true (test) vs predicted values\n",
    "df.plot()\n",
    "plt.ylabel('price')\n",
    "plt.xlabel('n')\n",
    "plt.title('true vs predicted values random forest')\n",
    "plt.savefig('Price_pred.png', bbox_inches='tight')\n",
    "plt.show()"
   ]
  },
  {
   "cell_type": "code",
   "execution_count": 153,
   "metadata": {},
   "outputs": [],
   "source": [
    "#Find feature importance\n",
    "feature_importances = pd.DataFrame(rf.feature_importances_, index =X.columns,  \n",
    "                                   columns=['importance']).sort_values('importance', ascending=False)"
   ]
  },
  {
   "cell_type": "code",
   "execution_count": 154,
   "metadata": {},
   "outputs": [
    {
     "data": {
      "text/html": [
       "<div>\n",
       "<style scoped>\n",
       "    .dataframe tbody tr th:only-of-type {\n",
       "        vertical-align: middle;\n",
       "    }\n",
       "\n",
       "    .dataframe tbody tr th {\n",
       "        vertical-align: top;\n",
       "    }\n",
       "\n",
       "    .dataframe thead th {\n",
       "        text-align: right;\n",
       "    }\n",
       "</style>\n",
       "<table border=\"1\" class=\"dataframe\">\n",
       "  <thead>\n",
       "    <tr style=\"text-align: right;\">\n",
       "      <th></th>\n",
       "      <th>importance</th>\n",
       "    </tr>\n",
       "  </thead>\n",
       "  <tbody>\n",
       "    <tr>\n",
       "      <th>scores</th>\n",
       "      <td>0.340773</td>\n",
       "    </tr>\n",
       "    <tr>\n",
       "      <th>reviews_per_month</th>\n",
       "      <td>0.149917</td>\n",
       "    </tr>\n",
       "    <tr>\n",
       "      <th>minimum_nights</th>\n",
       "      <td>0.144683</td>\n",
       "    </tr>\n",
       "    <tr>\n",
       "      <th>calculated_host_listings_count</th>\n",
       "      <td>0.100908</td>\n",
       "    </tr>\n",
       "    <tr>\n",
       "      <th>availability_365</th>\n",
       "      <td>0.074963</td>\n",
       "    </tr>\n",
       "  </tbody>\n",
       "</table>\n",
       "</div>"
      ],
      "text/plain": [
       "                                importance\n",
       "scores                            0.340773\n",
       "reviews_per_month                 0.149917\n",
       "minimum_nights                    0.144683\n",
       "calculated_host_listings_count    0.100908\n",
       "availability_365                  0.074963"
      ]
     },
     "execution_count": 154,
     "metadata": {},
     "output_type": "execute_result"
    }
   ],
   "source": [
    "feature_importances.head()"
   ]
  },
  {
   "cell_type": "code",
   "execution_count": 155,
   "metadata": {},
   "outputs": [
    {
     "data": {
      "image/png": "[encoded data removed]",
      "text/plain": [
       "<Figure size 720x360 with 1 Axes>"
      ]
     },
     "metadata": {},
     "output_type": "display_data"
    }
   ],
   "source": [
    "feature_importances.sort_values(by='importance', ascending=True).tail(20).plot.barh(color='m', figsize=(10,5))\n",
    "plt.title('top 20 features by feature importance - RF model')\n",
    "plt.tight_layout()\n",
    "plt.savefig('Top_features.png', bbox_inches='tight')\n",
    "plt.show()"
   ]
  },
  {
   "cell_type": "code",
   "execution_count": null,
   "metadata": {},
   "outputs": [],
   "source": []
  }
 ],
 "metadata": {
  "kernelspec": {
   "display_name": "Python 3.10.5 64-bit",
   "language": "python",
   "name": "python3"
  },
  "language_info": {
   "codemirror_mode": {
    "name": "ipython",
    "version": 3
   },
   "file_extension": ".py",
   "mimetype": "text/x-python",
   "name": "python",
   "nbconvert_exporter": "python",
   "pygments_lexer": "ipython3",
   "version": "3.10.5"
  },
  "orig_nbformat": 4,
  "vscode": {
   "interpreter": {
    "hash": "f2ccb58c476f33ba3e3aee7ac07234ef6b8217ef24ad64d2a7d4fed1a57c1cd2"
   }
  }
 },
 "nbformat": 4,
 "nbformat_minor": 2
}
